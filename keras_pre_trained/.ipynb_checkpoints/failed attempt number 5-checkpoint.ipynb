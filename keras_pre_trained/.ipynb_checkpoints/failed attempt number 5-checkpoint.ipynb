{
 "cells": [
  {
   "cell_type": "code",
   "execution_count": 1,
   "metadata": {},
   "outputs": [
    {
     "name": "stderr",
     "output_type": "stream",
     "text": [
      "Using TensorFlow backend.\n"
     ]
    },
    {
     "name": "stdout",
     "output_type": "stream",
     "text": [
      "keras is using tensorflow as the backend\n"
     ]
    }
   ],
   "source": [
    "import numpy as np\n",
    "import torch\n",
    "import torchvision\n",
    "import torchvision.transforms as transforms\n",
    "import csv\n",
    "import matplotlib.pyplot as plt\n",
    "\n",
    "# keras imports\n",
    "import keras\n",
    "from keras import backend as K\n",
    "backend_keras = keras.backend.backend()\n",
    "from keras.applications import vgg16, inception_v3, resnet50, mobilenet\n",
    "print(\"keras is using\", backend_keras,\"as the backend\")\n",
    "\n",
    "# import a whole bunch of other packeges\n",
    "import matplotlib\n",
    "matplotlib.use(\"Agg\")\n",
    "\n",
    "from sklearn.preprocessing import LabelBinarizer\n",
    "from sklearn import preprocessing\n",
    "from sklearn.model_selection import train_test_split\n",
    "from sklearn.metrics import classification_report\n",
    "from keras.models import Sequential\n",
    "from keras.layers.core import Dense\n",
    "from keras.optimizers import SGD\n",
    "from imutils import paths\n",
    "import matplotlib.pyplot as plt\n",
    "import numpy as np\n",
    "import argparse\n",
    "import random\n",
    "import keras\n",
    "import pickle\n",
    "import cv2\n",
    "import os"
   ]
  },
  {
   "cell_type": "code",
   "execution_count": 6,
   "metadata": {},
   "outputs": [],
   "source": [
    "def show_image(arr):\n",
    "    two_d = (np.reshape(arr, (28,28))*255).astype(np.uint8)\n",
    "    plt.imshow(two_d, cmap='Greys', interpolation='nearest')\n",
    "    plt.show()\n",
    "\n",
    "train_images = np.load(\"../train_images.npy\")\n"
   ]
  },
  {
   "cell_type": "markdown",
   "metadata": {},
   "source": [
    "Transform and normalize images??"
   ]
  },
  {
   "cell_type": "code",
   "execution_count": 8,
   "metadata": {},
   "outputs": [
    {
     "name": "stdout",
     "output_type": "stream",
     "text": [
      "['ID', 'label']\n"
     ]
    },
    {
     "data": {
      "text/plain": [
       "50000"
      ]
     },
     "execution_count": 8,
     "metadata": {},
     "output_type": "execute_result"
    }
   ],
   "source": [
    "# load the training labels into a dictionary,\n",
    "# also load it into a list, haven't decided which one is better yet\n",
    "labels_dic = {}\n",
    "labels = []\n",
    "with open('../train_labels.csv') as csvDataFile:\n",
    "    csvReader = csv.reader(csvDataFile)\n",
    "    for row in csvReader:\n",
    "        try: \n",
    "            labels_dic[int(row[0])] = int(row[1])\n",
    "            labels.append(int(row[1]))\n",
    "        except: print(row)\n",
    "            \n",
    "len(labels_dic)"
   ]
  },
  {
   "cell_type": "code",
   "execution_count": 9,
   "metadata": {},
   "outputs": [],
   "source": [
    "# normalize images\n",
    "train_images = np.array(train_images, dtype=\"float\") / 255.0\n",
    "\n",
    "labels = np.array(labels)\n",
    "train_labels = []\n",
    "for i in labels:\n",
    "    label = np.zeros(10)\n",
    "    label[i]=1\n",
    "    train_labels.append(label)\n",
    "\n",
    "train_labels = np.array(train_labels)"
   ]
  },
  {
   "cell_type": "code",
   "execution_count": 10,
   "metadata": {},
   "outputs": [
    {
     "name": "stdout",
     "output_type": "stream",
     "text": [
      "(50000,) (50000, 28, 28)\n"
     ]
    }
   ],
   "source": [
    "print(labels.shape,train_images.shape)"
   ]
  },
  {
   "cell_type": "code",
   "execution_count": 11,
   "metadata": {},
   "outputs": [
    {
     "data": {
      "text/plain": [
       "(50000, 784)"
      ]
     },
     "execution_count": 11,
     "metadata": {},
     "output_type": "execute_result"
    }
   ],
   "source": [
    "# flatten and train\n",
    "train_images_flatten = np.array([i.flatten(\"C\") for i in train_images])\n",
    "train_images_flatten.shape"
   ]
  },
  {
   "cell_type": "markdown",
   "metadata": {},
   "source": [
    "## Loading Keras Model\n",
    "\n",
    "following this guid\n",
    "https://www.learnopencv.com/keras-tutorial-using-pre-trained-imagenet-models/"
   ]
  },
  {
   "cell_type": "code",
   "execution_count": null,
   "metadata": {},
   "outputs": [],
   "source": []
  },
  {
   "cell_type": "markdown",
   "metadata": {},
   "source": [
    "### Compile the model\n",
    "\n",
    "You can compile a network (model) as many times as you want. You need to compile the model if you wish to change the loss function, optimizer or matrices.\n",
    "\n",
    "You need a compiled model to train (because training uses the loss function and the optimizer). But it’s not necessary to compile the model when testing the model on a new data."
   ]
  },
  {
   "cell_type": "code",
   "execution_count": 17,
   "metadata": {},
   "outputs": [
    {
     "name": "stdout",
     "output_type": "stream",
     "text": [
      "[INFO] training network...\n"
     ]
    }
   ],
   "source": [
    "# initialize our initial learning rate and # of epochs to train for\n",
    "INIT_LR = 0.01\n",
    "EPOCHS = 100\n",
    "\n",
    "# compile the model using SGD as our optimizer and categorical\n",
    "# cross-entropy loss (if you only have two classes use binary =_crossentropy)\n",
    "\n",
    "print(\"[INFO] training network...\")\n",
    "opt = SGD(lr=INIT_LR) # stochastic gradient descent\n",
    "model.compile(loss=\"categorical_crossentropy\", optimizer=opt, \n",
    "              metrics=[\"accuracy\"])\n",
    "\n"
   ]
  },
  {
   "cell_type": "code",
   "execution_count": 18,
   "metadata": {},
   "outputs": [],
   "source": [
    "# split the train into a train and valid set\n",
    "ratio = 0.8\n",
    "cut = int(ratio*len(train_images_flatten))\n",
    "trainX = train_images_flatten[:cut]\n",
    "trainY = train_labels[:cut]\n",
    "valX = train_images_flatten[cut:]\n",
    "valY = train_labels[cut:]"
   ]
  },
  {
   "cell_type": "code",
   "execution_count": 19,
   "metadata": {
    "scrolled": false
   },
   "outputs": [
    {
     "name": "stdout",
     "output_type": "stream",
     "text": [
      "Train on 40000 samples, validate on 10000 samples\n",
      "Epoch 1/100\n",
      "40000/40000 [==============================] - 6s 148us/step - loss: 2.2317 - accuracy: 0.2357 - val_loss: 2.1286 - val_accuracy: 0.4461\n",
      "Epoch 2/100\n",
      "40000/40000 [==============================] - 5s 134us/step - loss: 1.9272 - accuracy: 0.4338 - val_loss: 1.7091 - val_accuracy: 0.4968\n",
      "Epoch 3/100\n",
      "40000/40000 [==============================] - 5s 118us/step - loss: 1.5422 - accuracy: 0.5545 - val_loss: 1.4048 - val_accuracy: 0.5569\n",
      "Epoch 4/100\n",
      "40000/40000 [==============================] - 5s 135us/step - loss: 1.2943 - accuracy: 0.6104 - val_loss: 1.2008 - val_accuracy: 0.6272\n",
      "Epoch 5/100\n",
      "40000/40000 [==============================] - 6s 154us/step - loss: 1.1287 - accuracy: 0.6448 - val_loss: 1.0661 - val_accuracy: 0.6516\n",
      "Epoch 6/100\n",
      "40000/40000 [==============================] - 7s 181us/step - loss: 1.0186 - accuracy: 0.6643 - val_loss: 0.9744 - val_accuracy: 0.6725\n",
      "Epoch 7/100\n",
      "40000/40000 [==============================] - 7s 173us/step - loss: 0.9392 - accuracy: 0.6845 - val_loss: 0.9059 - val_accuracy: 0.6903\n",
      "Epoch 8/100\n",
      "40000/40000 [==============================] - 7s 175us/step - loss: 0.8787 - accuracy: 0.6984 - val_loss: 0.8580 - val_accuracy: 0.6849\n",
      "Epoch 9/100\n",
      "40000/40000 [==============================] - 7s 179us/step - loss: 0.8318 - accuracy: 0.7093 - val_loss: 0.8144 - val_accuracy: 0.7022\n",
      "Epoch 10/100\n",
      "40000/40000 [==============================] - 7s 171us/step - loss: 0.7967 - accuracy: 0.7168 - val_loss: 0.7842 - val_accuracy: 0.7166\n",
      "Epoch 11/100\n",
      "40000/40000 [==============================] - 7s 171us/step - loss: 0.7705 - accuracy: 0.7221 - val_loss: 0.7607 - val_accuracy: 0.7164\n",
      "Epoch 12/100\n",
      "40000/40000 [==============================] - 6s 162us/step - loss: 0.7506 - accuracy: 0.7260 - val_loss: 0.7452 - val_accuracy: 0.7184\n",
      "Epoch 13/100\n",
      "40000/40000 [==============================] - 7s 164us/step - loss: 0.7353 - accuracy: 0.7300 - val_loss: 0.7304 - val_accuracy: 0.7231\n",
      "Epoch 14/100\n",
      "40000/40000 [==============================] - 5s 133us/step - loss: 0.7221 - accuracy: 0.7320 - val_loss: 0.7212 - val_accuracy: 0.7202\n",
      "Epoch 15/100\n",
      "40000/40000 [==============================] - 6s 159us/step - loss: 0.7108 - accuracy: 0.7355 - val_loss: 0.7106 - val_accuracy: 0.7328\n",
      "Epoch 16/100\n",
      "40000/40000 [==============================] - 6s 144us/step - loss: 0.7017 - accuracy: 0.7387 - val_loss: 0.7063 - val_accuracy: 0.7356\n",
      "Epoch 17/100\n",
      "40000/40000 [==============================] - 6s 140us/step - loss: 0.6934 - accuracy: 0.7418 - val_loss: 0.6982 - val_accuracy: 0.7273\n",
      "Epoch 18/100\n",
      "40000/40000 [==============================] - 6s 146us/step - loss: 0.6862 - accuracy: 0.7437 - val_loss: 0.6887 - val_accuracy: 0.7372\n",
      "Epoch 19/100\n",
      "40000/40000 [==============================] - 6s 144us/step - loss: 0.6795 - accuracy: 0.7473 - val_loss: 0.6823 - val_accuracy: 0.7386\n",
      "Epoch 20/100\n",
      "40000/40000 [==============================] - 6s 145us/step - loss: 0.6735 - accuracy: 0.7503 - val_loss: 0.6765 - val_accuracy: 0.7437\n",
      "Epoch 21/100\n",
      "40000/40000 [==============================] - 6s 145us/step - loss: 0.6675 - accuracy: 0.7531 - val_loss: 0.6762 - val_accuracy: 0.7427\n",
      "Epoch 22/100\n",
      "40000/40000 [==============================] - 6s 144us/step - loss: 0.6623 - accuracy: 0.7543 - val_loss: 0.6691 - val_accuracy: 0.7473\n",
      "Epoch 23/100\n",
      "40000/40000 [==============================] - 6s 142us/step - loss: 0.6573 - accuracy: 0.7559 - val_loss: 0.6631 - val_accuracy: 0.7464\n",
      "Epoch 24/100\n",
      "40000/40000 [==============================] - 6s 148us/step - loss: 0.6523 - accuracy: 0.7586 - val_loss: 0.6581 - val_accuracy: 0.7529\n",
      "Epoch 25/100\n",
      "40000/40000 [==============================] - 6s 153us/step - loss: 0.6478 - accuracy: 0.7620 - val_loss: 0.6561 - val_accuracy: 0.7531\n",
      "Epoch 26/100\n",
      "40000/40000 [==============================] - 6s 154us/step - loss: 0.6436 - accuracy: 0.7627 - val_loss: 0.6509 - val_accuracy: 0.7529\n",
      "Epoch 27/100\n",
      "40000/40000 [==============================] - 6s 154us/step - loss: 0.6392 - accuracy: 0.7652 - val_loss: 0.6492 - val_accuracy: 0.7511\n",
      "Epoch 28/100\n",
      "40000/40000 [==============================] - 6s 140us/step - loss: 0.6350 - accuracy: 0.7674 - val_loss: 0.6459 - val_accuracy: 0.7549\n",
      "Epoch 29/100\n",
      "40000/40000 [==============================] - 6s 150us/step - loss: 0.6308 - accuracy: 0.7681 - val_loss: 0.6441 - val_accuracy: 0.7544\n",
      "Epoch 30/100\n",
      "40000/40000 [==============================] - 6s 142us/step - loss: 0.6274 - accuracy: 0.7700 - val_loss: 0.6387 - val_accuracy: 0.7590\n",
      "Epoch 31/100\n",
      "40000/40000 [==============================] - 6s 143us/step - loss: 0.6239 - accuracy: 0.7716 - val_loss: 0.6331 - val_accuracy: 0.7608\n",
      "Epoch 32/100\n",
      "40000/40000 [==============================] - 6s 143us/step - loss: 0.6196 - accuracy: 0.7732 - val_loss: 0.6323 - val_accuracy: 0.7645\n",
      "Epoch 33/100\n",
      "40000/40000 [==============================] - 6s 143us/step - loss: 0.6160 - accuracy: 0.7758 - val_loss: 0.6301 - val_accuracy: 0.7620\n",
      "Epoch 34/100\n",
      "40000/40000 [==============================] - 6s 143us/step - loss: 0.6127 - accuracy: 0.7768 - val_loss: 0.6249 - val_accuracy: 0.7619\n",
      "Epoch 35/100\n",
      "40000/40000 [==============================] - 6s 155us/step - loss: 0.6093 - accuracy: 0.7786 - val_loss: 0.6227 - val_accuracy: 0.7681\n",
      "Epoch 36/100\n",
      "40000/40000 [==============================] - 6s 141us/step - loss: 0.6061 - accuracy: 0.7784 - val_loss: 0.6272 - val_accuracy: 0.7610\n",
      "Epoch 37/100\n",
      "40000/40000 [==============================] - 6s 140us/step - loss: 0.6027 - accuracy: 0.7807 - val_loss: 0.6159 - val_accuracy: 0.7644\n",
      "Epoch 38/100\n",
      "40000/40000 [==============================] - 6s 140us/step - loss: 0.5998 - accuracy: 0.7828 - val_loss: 0.6174 - val_accuracy: 0.7665\n",
      "Epoch 39/100\n",
      "40000/40000 [==============================] - 6s 141us/step - loss: 0.5969 - accuracy: 0.7829 - val_loss: 0.6117 - val_accuracy: 0.7704\n",
      "Epoch 40/100\n",
      "40000/40000 [==============================] - 6s 141us/step - loss: 0.5938 - accuracy: 0.7836 - val_loss: 0.6096 - val_accuracy: 0.7687\n",
      "Epoch 41/100\n",
      "40000/40000 [==============================] - 6s 144us/step - loss: 0.5909 - accuracy: 0.7849 - val_loss: 0.6093 - val_accuracy: 0.7713\n",
      "Epoch 42/100\n",
      "40000/40000 [==============================] - 6s 143us/step - loss: 0.5880 - accuracy: 0.7857 - val_loss: 0.6066 - val_accuracy: 0.7719\n",
      "Epoch 43/100\n",
      "40000/40000 [==============================] - 6s 143us/step - loss: 0.5849 - accuracy: 0.7879 - val_loss: 0.6047 - val_accuracy: 0.7738\n",
      "Epoch 44/100\n",
      "40000/40000 [==============================] - 6s 142us/step - loss: 0.5823 - accuracy: 0.7886 - val_loss: 0.6017 - val_accuracy: 0.7722\n",
      "Epoch 45/100\n",
      "40000/40000 [==============================] - 6s 142us/step - loss: 0.5803 - accuracy: 0.7886 - val_loss: 0.6041 - val_accuracy: 0.7706\n",
      "Epoch 46/100\n",
      "40000/40000 [==============================] - 6s 142us/step - loss: 0.5779 - accuracy: 0.7896 - val_loss: 0.6022 - val_accuracy: 0.7747\n",
      "Epoch 47/100\n",
      "40000/40000 [==============================] - 6s 142us/step - loss: 0.5755 - accuracy: 0.7922 - val_loss: 0.5948 - val_accuracy: 0.7762\n",
      "Epoch 48/100\n",
      "40000/40000 [==============================] - 6s 143us/step - loss: 0.5732 - accuracy: 0.7928 - val_loss: 0.5917 - val_accuracy: 0.7769\n",
      "Epoch 49/100\n",
      "40000/40000 [==============================] - 6s 143us/step - loss: 0.5708 - accuracy: 0.7933 - val_loss: 0.5978 - val_accuracy: 0.7756\n",
      "Epoch 50/100\n",
      "40000/40000 [==============================] - 6s 145us/step - loss: 0.5691 - accuracy: 0.7922 - val_loss: 0.5900 - val_accuracy: 0.7778\n",
      "Epoch 51/100\n",
      "40000/40000 [==============================] - 6s 143us/step - loss: 0.5666 - accuracy: 0.7944 - val_loss: 0.5899 - val_accuracy: 0.7783\n",
      "Epoch 52/100\n",
      "40000/40000 [==============================] - 6s 143us/step - loss: 0.5649 - accuracy: 0.7947 - val_loss: 0.5934 - val_accuracy: 0.7744\n",
      "Epoch 53/100\n",
      "40000/40000 [==============================] - 6s 146us/step - loss: 0.5626 - accuracy: 0.7956 - val_loss: 0.5932 - val_accuracy: 0.7799\n",
      "Epoch 54/100\n",
      "40000/40000 [==============================] - 6s 144us/step - loss: 0.5609 - accuracy: 0.7963 - val_loss: 0.5896 - val_accuracy: 0.7785\n",
      "Epoch 55/100\n",
      "40000/40000 [==============================] - 5s 129us/step - loss: 0.5594 - accuracy: 0.7982 - val_loss: 0.5897 - val_accuracy: 0.7762\n",
      "Epoch 56/100\n",
      "40000/40000 [==============================] - 5s 129us/step - loss: 0.5579 - accuracy: 0.7966 - val_loss: 0.5886 - val_accuracy: 0.7775\n",
      "Epoch 57/100\n",
      "40000/40000 [==============================] - 5s 129us/step - loss: 0.5563 - accuracy: 0.7990 - val_loss: 0.5855 - val_accuracy: 0.7811\n",
      "Epoch 58/100\n",
      "40000/40000 [==============================] - 5s 130us/step - loss: 0.5546 - accuracy: 0.7997 - val_loss: 0.5797 - val_accuracy: 0.7820\n",
      "Epoch 59/100\n",
      "40000/40000 [==============================] - 5s 129us/step - loss: 0.5525 - accuracy: 0.7995 - val_loss: 0.5807 - val_accuracy: 0.7832\n",
      "Epoch 60/100\n",
      "40000/40000 [==============================] - 5s 130us/step - loss: 0.5512 - accuracy: 0.7996 - val_loss: 0.5837 - val_accuracy: 0.7819\n",
      "Epoch 61/100\n",
      "40000/40000 [==============================] - 5s 130us/step - loss: 0.5495 - accuracy: 0.8012 - val_loss: 0.5810 - val_accuracy: 0.7815\n",
      "Epoch 62/100\n",
      "40000/40000 [==============================] - 5s 132us/step - loss: 0.5486 - accuracy: 0.8012 - val_loss: 0.5840 - val_accuracy: 0.7805\n",
      "Epoch 63/100\n",
      "40000/40000 [==============================] - 5s 133us/step - loss: 0.5466 - accuracy: 0.8020 - val_loss: 0.5831 - val_accuracy: 0.7818\n",
      "Epoch 64/100\n",
      "40000/40000 [==============================] - 5s 131us/step - loss: 0.5457 - accuracy: 0.8027 - val_loss: 0.5758 - val_accuracy: 0.7865\n",
      "Epoch 65/100\n",
      "40000/40000 [==============================] - 5s 131us/step - loss: 0.5447 - accuracy: 0.8025 - val_loss: 0.5736 - val_accuracy: 0.7863\n",
      "Epoch 66/100\n",
      "40000/40000 [==============================] - 5s 131us/step - loss: 0.5429 - accuracy: 0.8035 - val_loss: 0.5760 - val_accuracy: 0.7847\n",
      "Epoch 67/100\n",
      "40000/40000 [==============================] - 5s 131us/step - loss: 0.5414 - accuracy: 0.8036 - val_loss: 0.5720 - val_accuracy: 0.7869\n",
      "Epoch 68/100\n",
      "40000/40000 [==============================] - 5s 131us/step - loss: 0.5404 - accuracy: 0.8040 - val_loss: 0.5768 - val_accuracy: 0.7847\n",
      "Epoch 69/100\n",
      "40000/40000 [==============================] - 5s 132us/step - loss: 0.5394 - accuracy: 0.8062 - val_loss: 0.5670 - val_accuracy: 0.7873\n",
      "Epoch 70/100\n",
      "40000/40000 [==============================] - 5s 132us/step - loss: 0.5380 - accuracy: 0.8042 - val_loss: 0.5690 - val_accuracy: 0.7883\n",
      "Epoch 71/100\n",
      "40000/40000 [==============================] - 5s 132us/step - loss: 0.5371 - accuracy: 0.8046 - val_loss: 0.5777 - val_accuracy: 0.7838\n",
      "Epoch 72/100\n",
      "40000/40000 [==============================] - 5s 137us/step - loss: 0.5358 - accuracy: 0.8063 - val_loss: 0.5644 - val_accuracy: 0.7878\n",
      "Epoch 73/100\n",
      "40000/40000 [==============================] - 5s 133us/step - loss: 0.5342 - accuracy: 0.8069 - val_loss: 0.5669 - val_accuracy: 0.7899\n",
      "Epoch 74/100\n",
      "40000/40000 [==============================] - 5s 132us/step - loss: 0.5334 - accuracy: 0.8063 - val_loss: 0.5692 - val_accuracy: 0.7856\n",
      "Epoch 75/100\n",
      "40000/40000 [==============================] - 5s 132us/step - loss: 0.5321 - accuracy: 0.8071 - val_loss: 0.5637 - val_accuracy: 0.7909\n",
      "Epoch 76/100\n",
      "40000/40000 [==============================] - 5s 132us/step - loss: 0.5305 - accuracy: 0.8089 - val_loss: 0.5695 - val_accuracy: 0.7872\n",
      "Epoch 77/100\n",
      "40000/40000 [==============================] - 5s 132us/step - loss: 0.5299 - accuracy: 0.8081 - val_loss: 0.5764 - val_accuracy: 0.7832\n",
      "Epoch 78/100\n",
      "40000/40000 [==============================] - 5s 133us/step - loss: 0.5291 - accuracy: 0.8090 - val_loss: 0.5594 - val_accuracy: 0.7930\n",
      "Epoch 79/100\n",
      "40000/40000 [==============================] - 5s 132us/step - loss: 0.5275 - accuracy: 0.8088 - val_loss: 0.5626 - val_accuracy: 0.7904\n",
      "Epoch 80/100\n",
      "40000/40000 [==============================] - 5s 133us/step - loss: 0.5276 - accuracy: 0.8089 - val_loss: 0.5661 - val_accuracy: 0.7903\n",
      "Epoch 81/100\n",
      "40000/40000 [==============================] - 5s 134us/step - loss: 0.5261 - accuracy: 0.8103 - val_loss: 0.5579 - val_accuracy: 0.7922\n",
      "Epoch 82/100\n",
      "40000/40000 [==============================] - 5s 133us/step - loss: 0.5246 - accuracy: 0.8106 - val_loss: 0.5593 - val_accuracy: 0.7926\n",
      "Epoch 83/100\n",
      "40000/40000 [==============================] - 5s 133us/step - loss: 0.5237 - accuracy: 0.8117 - val_loss: 0.5567 - val_accuracy: 0.7920\n",
      "Epoch 84/100\n",
      "40000/40000 [==============================] - 5s 132us/step - loss: 0.5223 - accuracy: 0.8115 - val_loss: 0.5567 - val_accuracy: 0.7925\n",
      "Epoch 85/100\n",
      "40000/40000 [==============================] - 5s 135us/step - loss: 0.5218 - accuracy: 0.8113 - val_loss: 0.5653 - val_accuracy: 0.7903\n",
      "Epoch 86/100\n",
      "40000/40000 [==============================] - 5s 134us/step - loss: 0.5205 - accuracy: 0.8118 - val_loss: 0.5560 - val_accuracy: 0.7931\n",
      "Epoch 87/100\n",
      "40000/40000 [==============================] - 5s 133us/step - loss: 0.5198 - accuracy: 0.8121 - val_loss: 0.5555 - val_accuracy: 0.7937\n",
      "Epoch 88/100\n",
      "40000/40000 [==============================] - 5s 133us/step - loss: 0.5195 - accuracy: 0.8121 - val_loss: 0.5568 - val_accuracy: 0.7924\n",
      "Epoch 89/100\n",
      "40000/40000 [==============================] - 5s 134us/step - loss: 0.5180 - accuracy: 0.8129 - val_loss: 0.5637 - val_accuracy: 0.7895\n",
      "Epoch 90/100\n",
      "40000/40000 [==============================] - 5s 133us/step - loss: 0.5169 - accuracy: 0.8145 - val_loss: 0.5599 - val_accuracy: 0.7903\n",
      "Epoch 91/100\n",
      "40000/40000 [==============================] - 5s 135us/step - loss: 0.5158 - accuracy: 0.8151 - val_loss: 0.5514 - val_accuracy: 0.7973\n",
      "Epoch 92/100\n",
      "40000/40000 [==============================] - 5s 136us/step - loss: 0.5148 - accuracy: 0.8148 - val_loss: 0.5536 - val_accuracy: 0.7956\n",
      "Epoch 93/100\n",
      "40000/40000 [==============================] - 6s 138us/step - loss: 0.5146 - accuracy: 0.8138 - val_loss: 0.5498 - val_accuracy: 0.7958\n",
      "Epoch 94/100\n",
      "40000/40000 [==============================] - 5s 133us/step - loss: 0.5138 - accuracy: 0.8148 - val_loss: 0.5488 - val_accuracy: 0.7969\n",
      "Epoch 95/100\n",
      "40000/40000 [==============================] - 5s 133us/step - loss: 0.5130 - accuracy: 0.8136 - val_loss: 0.5525 - val_accuracy: 0.7942\n",
      "Epoch 96/100\n",
      "40000/40000 [==============================] - 5s 133us/step - loss: 0.5111 - accuracy: 0.8151 - val_loss: 0.5563 - val_accuracy: 0.7940\n",
      "Epoch 97/100\n",
      "40000/40000 [==============================] - 5s 133us/step - loss: 0.5102 - accuracy: 0.8166 - val_loss: 0.5523 - val_accuracy: 0.7940\n",
      "Epoch 98/100\n",
      "40000/40000 [==============================] - 5s 134us/step - loss: 0.5101 - accuracy: 0.8148 - val_loss: 0.5462 - val_accuracy: 0.7978\n",
      "Epoch 99/100\n",
      "40000/40000 [==============================] - 5s 133us/step - loss: 0.5089 - accuracy: 0.8164 - val_loss: 0.5483 - val_accuracy: 0.7965\n",
      "Epoch 100/100\n",
      "40000/40000 [==============================] - 5s 133us/step - loss: 0.5079 - accuracy: 0.8181 - val_loss: 0.5543 - val_accuracy: 0.7953\n"
     ]
    }
   ],
   "source": [
    "# train the neural network\n",
    "H = model.fit(trainX, trainY, \n",
    "              validation_data=(valX, valY), \n",
    "              epochs=EPOCHS, batch_size=32)"
   ]
  },
  {
   "cell_type": "code",
   "execution_count": null,
   "metadata": {},
   "outputs": [],
   "source": []
  },
  {
   "cell_type": "code",
   "execution_count": 20,
   "metadata": {},
   "outputs": [
    {
     "name": "stdout",
     "output_type": "stream",
     "text": [
      "[INFO] evaluating network...\n"
     ]
    },
    {
     "data": {
      "image/png": "[encoded data removed]",
      "text/plain": [
       "<Figure size 432x288 with 1 Axes>"
      ]
     },
     "metadata": {},
     "output_type": "display_data"
    }
   ],
   "source": [
    "#evaluate the network\n",
    "print(\"[INFO] evaluating network...\")\n",
    "predictions = model.predict(trainX, batch_size=32)\n",
    "\n",
    "#Uncomment to see the predicted probabilty for each class in every test image\n",
    "# print (\"predictions---------------->\",predictions)\n",
    "#Uncomment to print the predicted labels in each image\n",
    "# print(\"predictions.argmax(axis=1)\",predictions.argmax(axis=1))\n",
    "\n",
    "### print the performance report of the prediction\n",
    "#print(classification_report(valY.argmax(axis=1),\n",
    " #                           predictions.argmax(axis=1), \n",
    "  #                          target_names=[str(i) for i in range(10)]))\n",
    "\n",
    "# plot the training loss and accuracy for each epoch\n",
    "N = np.arange(0, EPOCHS)\n",
    "plt.style.use(\"ggplot\")\n",
    "plt.figure()\n",
    "plt.plot(N, H.history[\"loss\"], label=\"train_loss\")\n",
    "plt.plot(N, H.history[\"val_loss\"], label=\"val_loss\")\n",
    "plt.plot(N, H.history[\"accuracy\"], label=\"train_acc\")\n",
    "plt.plot(N, H.history[\"val_accuracy\"], label=\"val_acc\")\n",
    "plt.title(\"Training Loss and Accuracy (simple_multiclass_classifcation)\")\n",
    "plt.xlabel(\"Epoch #\")\n",
    "plt.ylabel(\"Loss/Accuracy\")\n",
    "plt.legend()\n",
    "plt.savefig(\"training_performance.png\")"
   ]
  },
  {
   "cell_type": "markdown",
   "metadata": {},
   "source": [
    "## save the model"
   ]
  },
  {
   "cell_type": "code",
   "execution_count": 22,
   "metadata": {},
   "outputs": [
    {
     "name": "stdout",
     "output_type": "stream",
     "text": [
      "[INFO] serializing network...\n"
     ]
    }
   ],
   "source": [
    "# save the model to disk\n",
    "print(\"[INFO] serializing network...\")\n",
    "model.save(\"keras_two_hidden_layer_784_350_200_10_795_valmodel.model\")\n"
   ]
  },
  {
   "cell_type": "code",
   "execution_count": null,
   "metadata": {},
   "outputs": [],
   "source": []
  },
  {
   "cell_type": "code",
   "execution_count": null,
   "metadata": {},
   "outputs": [],
   "source": []
  }
 ],
 "metadata": {
  "kernelspec": {
   "display_name": "Python 3",
   "language": "python",
   "name": "python3"
  },
  "language_info": {
   "codemirror_mode": {
    "name": "ipython",
    "version": 3
   },
   "file_extension": ".py",
   "mimetype": "text/x-python",
   "name": "python",
   "nbconvert_exporter": "python",
   "pygments_lexer": "ipython3",
   "version": "3.7.3"
  }
 },
 "nbformat": 4,
 "nbformat_minor": 2
}
