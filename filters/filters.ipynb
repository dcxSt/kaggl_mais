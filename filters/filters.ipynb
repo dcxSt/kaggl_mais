{
  "nbformat": 4,
  "nbformat_minor": 0,
  "metadata": {
    "colab": {
      "name": "???.ipynb",
      "provenance": [],
      "collapsed_sections": []
    },
    "kernelspec": {
      "name": "python3",
      "display_name": "Python 3"
    }
  },
  "cells": [
    {
      "cell_type": "code",
      "metadata": {
        "id": "l77r6xJTOUKl",
        "colab_type": "code",
        "colab": {
          "base_uri": "https://localhost:8080/",
          "height": 80
        },
        "outputId": "70a3371c-f731-4d4d-b939-3f2d818f05bb"
      },
      "source": [
        "import cv2\n",
        "import argparse\n",
        "import numpy as np\n",
        "from scipy import misc\n",
        "from PIL import Image\n",
        "from matplotlib import pyplot as plt\n",
        "import keras\n",
        "from keras.layers import Input, Conv2D, UpSampling2D, MaxPooling2D, Dense, Flatten\n",
        "from keras.models import Model, Sequential\n",
        "from keras import regularizers\n",
        "import csv"
      ],
      "execution_count": 1,
      "outputs": [
        {
          "output_type": "stream",
          "text": [
            "Using TensorFlow backend.\n"
          ],
          "name": "stderr"
        },
        {
          "output_type": "display_data",
          "data": {
            "text/html": [
              "<p style=\"color: red;\">\n",
              "The default version of TensorFlow in Colab will soon switch to TensorFlow 2.x.<br>\n",
              "We recommend you <a href=\"https://www.tensorflow.org/guide/migrate\" target=\"_blank\">upgrade</a> now \n",
              "or ensure your notebook will continue to use TensorFlow 1.x via the <code>%tensorflow_version 1.x</code> magic:\n",
              "<a href=\"https://colab.research.google.com/notebooks/tensorflow_version.ipynb\" target=\"_blank\">more info</a>.</p>\n"
            ],
            "text/plain": [
              "<IPython.core.display.HTML object>"
            ]
          },
          "metadata": {
            "tags": []
          }
        }
      ]
    },
    {
      "cell_type": "code",
      "metadata": {
        "id": "0H-EwQInPPxz",
        "colab_type": "code",
        "outputId": "50efbd18-5a38-4f29-82eb-bbf950ff56ac",
        "colab": {
          "base_uri": "https://localhost:8080/",
          "height": 34
        }
      },
      "source": [
        "train_images = np.load(\"train_images.npy\")\n",
        "test_images = np.load(\"test_images.npy\")\n",
        "print(train_images.shape)"
      ],
      "execution_count": 2,
      "outputs": [
        {
          "output_type": "stream",
          "text": [
            "(50000, 28, 28)\n"
          ],
          "name": "stdout"
        }
      ]
    },
    {
      "cell_type": "markdown",
      "metadata": {
        "id": "a5f-Rf_7Q__X",
        "colab_type": "text"
      },
      "source": [
        ""
      ]
    },
    {
      "cell_type": "code",
      "metadata": {
        "id": "SFKEYLUdQmSG",
        "colab_type": "code",
        "colab": {}
      },
      "source": [
        "def viewImages(arr):\n",
        "    for img in arr:\n",
        "        two_d = (np.reshape(img, (28,28))*255).astype(np.uint8)\n",
        "        plt.imshow(two_d, cmap='Greys', interpolation='nearest')\n",
        "        plt.show()\n",
        "\n",
        "def viewImage(img):\n",
        "    two_d = (np.reshape(img, (28, 28))*255).astype(np.uint8)\n",
        "    plt.imshow(two_d, cmap='Greys', interpolation='nearest')\n",
        "    plt.show()        "
      ],
      "execution_count": 0,
      "outputs": []
    },
    {
      "cell_type": "code",
      "metadata": {
        "id": "3N4LXQ0sS1pl",
        "colab_type": "code",
        "colab": {
          "base_uri": "https://localhost:8080/",
          "height": 265
        },
        "outputId": "a20ea8e3-8a87-4349-8efb-8e047eed19ce"
      },
      "source": [
        "viewImages(train_images[:1])"
      ],
      "execution_count": 4,
      "outputs": [
        {
          "output_type": "display_data",
          "data": {
            "image/png": "[encoded data removed]",
            "text/plain": [
              "<Figure size 432x288 with 1 Axes>"
            ]
          },
          "metadata": {
            "tags": []
          }
        }
      ]
    },
    {
      "cell_type": "code",
      "metadata": {
        "id": "t_-fC-8CTCjS",
        "colab_type": "code",
        "colab": {}
      },
      "source": [
        "def convolve2d(img, kernel):\n",
        "  kernel = np.flipud(np.fliplr(kernel))\n",
        "  output = np.zeros_like(img)\n",
        "\n",
        "  img_padded = np.zeros((img.shape[0] + 2, img.shape[1] + 2))\n",
        "  img_padded[1:-1,1:-1] = img\n",
        "\n",
        "  for x in range(img.shape[1]):\n",
        "    for y in range(img.shape[0]):\n",
        "      # print(kernel.shape, img_padded[y:y+3,x:x+3].shape)\n",
        "      output[y,x] = (kernel*img_padded[y:y+3,x:x+3]).sum()\n",
        "\n",
        "  return output"
      ],
      "execution_count": 0,
      "outputs": []
    },
    {
      "cell_type": "code",
      "metadata": {
        "id": "Ai222CpVOdp5",
        "colab_type": "code",
        "colab": {}
      },
      "source": [
        "sharpen = np.array([[0,-1,0],[-1,2,-1],[0,-1,0]])\n",
        "blur = np.array([[1/9,1/9,1/9],[1/9,1/9,1/9],[1/9,1/9,1/9]])"
      ],
      "execution_count": 0,
      "outputs": []
    },
    {
      "cell_type": "code",
      "metadata": {
        "id": "Awcf7GudXmpf",
        "colab_type": "code",
        "colab": {
          "base_uri": "https://localhost:8080/",
          "height": 1000
        },
        "outputId": "c010393f-d995-42fc-c51f-743c3d926172"
      },
      "source": [
        "trial = test_images[1]\n",
        "blur1 = convolve2d(trial, blur)\n",
        "sharp = convolve2d(trial, sharpen)\n",
        "blurry = convolve2d(sharp, blur)\n",
        "viewImage(trial)\n",
        "viewImage(blur1)\n",
        "viewImage(sharp)\n",
        "viewImage(blurry)"
      ],
      "execution_count": 7,
      "outputs": [
        {
          "output_type": "display_data",
          "data": {
            "image/png": "[encoded data removed]",
            "text/plain": [
              "<Figure size 432x288 with 1 Axes>"
            ]
          },
          "metadata": {
            "tags": []
          }
        },
        {
          "output_type": "display_data",
          "data": {
            "image/png": "[encoded data removed]",
            "text/plain": [
              "<Figure size 432x288 with 1 Axes>"
            ]
          },
          "metadata": {
            "tags": []
          }
        },
        {
          "output_type": "display_data",
          "data": {
            "image/png": "[encoded data removed]",
            "text/plain": [
              "<Figure size 432x288 with 1 Axes>"
            ]
          },
          "metadata": {
            "tags": []
          }
        },
        {
          "output_type": "display_data",
          "data": {
            "image/png": "[encoded data removed]",
            "text/plain": [
              "<Figure size 432x288 with 1 Axes>"
            ]
          },
          "metadata": {
            "tags": []
          }
        }
      ]
    },
    {
      "cell_type": "code",
      "metadata": {
        "id": "b4WRQ-U0YXsd",
        "colab_type": "code",
        "colab": {}
      },
      "source": [
        "def preprocess(arr):\n",
        "    # Reshape images to 28x28x1\n",
        "    tmp = np.reshape(arr, (arr.shape[0], 28, 28, 1))\n",
        "    \n",
        "    # Normalize\n",
        "    tmp = tmp / 255.0\n",
        "    \n",
        "    return tmp"
      ],
      "execution_count": 0,
      "outputs": []
    },
    {
      "cell_type": "markdown",
      "metadata": {
        "id": "PNKhXd4SbZgw",
        "colab_type": "text"
      },
      "source": [
        "Here's the plan: \n",
        "\n",
        "\n",
        "*   Train CNN on each of the images with different filters on them\n",
        "*   Vote between 3 models\n",
        "\n"
      ]
    },
    {
      "cell_type": "code",
      "metadata": {
        "id": "YWIt-fIzbYnu",
        "colab_type": "code",
        "colab": {}
      },
      "source": [
        "with open('train_labels.csv', 'r') as csvfile:\n",
        "    reader = csv.reader(csvfile)\n",
        "    train_labels = np.array(list(reader))[1:,1]\n",
        "    \n",
        "labels = np.zeros((10, 10))\n",
        "for i in range(10):\n",
        "    labels[i, i] = 1\n",
        "\n",
        "train_labels = np.array([labels[int(x), :] for x in train_labels])"
      ],
      "execution_count": 0,
      "outputs": []
    },
    {
      "cell_type": "markdown",
      "metadata": {
        "id": "mWGjRoSnm_ZF",
        "colab_type": "text"
      },
      "source": [
        "CREATING THE TRAINING DATA: Using different training data for each model, hopefully will diversify"
      ]
    },
    {
      "cell_type": "code",
      "metadata": {
        "id": "VofoJmN4cWj8",
        "colab_type": "code",
        "colab": {}
      },
      "source": [
        "train_i = 1000\n",
        "\n",
        "# OG\n",
        "x_train = train_images[:train_i]\n",
        "x_train = preprocess(x_train)\n",
        "\n",
        "# Sharp\n",
        "x_sharp_train = train_images[:train_i]\n",
        "for im in x_sharp_train:\n",
        "  im = convolve2d(im, sharpen)\n",
        "\n",
        "# Blur\n",
        "x_blur_train = train_images[train_i: 2* train_i]\n",
        "for im in x_blur_train:\n",
        "  im = convolve2d(im, blur)\n",
        "\n",
        "# Both\n",
        "x_sharp_train2 = train_images[train_i * 2: train_i * 3]\n",
        "for im in x_sharp_train2:\n",
        "  im = convolve2d(im, sharpen)\n",
        "\n",
        "x_both_train = x_sharp_train2\n",
        "for im in x_both_train:\n",
        "  im = convolve2d(im, blur)\n",
        "\n",
        "\n",
        "x_both_train = preprocess(x_both_train)\n",
        "x_sharp_train = preprocess(x_sharp_train)\n",
        "x_blur_train = preprocess(x_blur_train)\n",
        "# Labels\n",
        "y_train_sharp = train_labels[:train_i]\n",
        "y_train_blur = train_labels[train_i: train_i*2]\n",
        "y_train_both = train_labels[train_i *2: train_i*3]"
      ],
      "execution_count": 0,
      "outputs": []
    },
    {
      "cell_type": "markdown",
      "metadata": {
        "id": "_icEw5xpnLAa",
        "colab_type": "text"
      },
      "source": [
        "Using Tomer's CNN model"
      ]
    },
    {
      "cell_type": "code",
      "metadata": {
        "id": "psUQGK4Abo0r",
        "colab_type": "code",
        "colab": {
          "base_uri": "https://localhost:8080/",
          "height": 241
        },
        "outputId": "fc5e1cc5-663a-41e9-bdbd-ffa7c27019f8"
      },
      "source": [
        "model = Sequential()\n",
        "\n",
        "model.add(Conv2D(filters=64, kernel_size=5, activation='relu', \n",
        "                  input_shape=(28, 28, 1), kernel_regularizer=regularizers.l2(0.01)))\n",
        "\n",
        "model.add(MaxPooling2D(pool_size=(2, 2), padding='valid'))\n",
        "model.add(Conv2D(filters=32, kernel_size=5, activation='relu', kernel_regularizer=regularizers.l2(0.01)))\n",
        "\n",
        "model.add(MaxPooling2D(pool_size=(2, 2), padding='valid'))\n",
        "model.add(Conv2D(filters=32, kernel_size=3, activation='relu', kernel_regularizer=regularizers.l2(0.01)))\n",
        "\n",
        "model.add(Flatten())\n",
        "model.add(Dense(units=10, activation='softmax'))\n",
        "\n",
        "model.compile(loss=keras.losses.categorical_crossentropy,\n",
        "              optimizer='rmsprop',\n",
        "              metrics=[keras.metrics.binary_accuracy])"
      ],
      "execution_count": 11,
      "outputs": [
        {
          "output_type": "stream",
          "text": [
            "WARNING:tensorflow:From /usr/local/lib/python3.6/dist-packages/keras/backend/tensorflow_backend.py:66: The name tf.get_default_graph is deprecated. Please use tf.compat.v1.get_default_graph instead.\n",
            "\n",
            "WARNING:tensorflow:From /usr/local/lib/python3.6/dist-packages/keras/backend/tensorflow_backend.py:541: The name tf.placeholder is deprecated. Please use tf.compat.v1.placeholder instead.\n",
            "\n",
            "WARNING:tensorflow:From /usr/local/lib/python3.6/dist-packages/keras/backend/tensorflow_backend.py:4432: The name tf.random_uniform is deprecated. Please use tf.random.uniform instead.\n",
            "\n",
            "WARNING:tensorflow:From /usr/local/lib/python3.6/dist-packages/keras/backend/tensorflow_backend.py:4267: The name tf.nn.max_pool is deprecated. Please use tf.nn.max_pool2d instead.\n",
            "\n",
            "WARNING:tensorflow:From /usr/local/lib/python3.6/dist-packages/keras/optimizers.py:793: The name tf.train.Optimizer is deprecated. Please use tf.compat.v1.train.Optimizer instead.\n",
            "\n",
            "WARNING:tensorflow:From /usr/local/lib/python3.6/dist-packages/keras/backend/tensorflow_backend.py:3576: The name tf.log is deprecated. Please use tf.math.log instead.\n",
            "\n"
          ],
          "name": "stdout"
        }
      ]
    },
    {
      "cell_type": "code",
      "metadata": {
        "id": "z8SWGjZKijNU",
        "colab_type": "code",
        "colab": {}
      },
      "source": [
        "model2 = keras.models.clone_model(model)\n",
        "model2.compile(loss=keras.losses.categorical_crossentropy,\n",
        "              optimizer='rmsprop',\n",
        "              metrics=[keras.metrics.binary_accuracy])\n",
        "model3 = keras.models.clone_model(model)\n",
        "model3.compile(loss=keras.losses.categorical_crossentropy,\n",
        "              optimizer='rmsprop',\n",
        "              metrics=[keras.metrics.binary_accuracy])\n",
        "model4 = keras.models.clone_model(model)\n",
        "model4.compile(loss=keras.losses.categorical_crossentropy,\n",
        "              optimizer='rmsprop',\n",
        "              metrics=[keras.metrics.binary_accuracy])"
      ],
      "execution_count": 0,
      "outputs": []
    },
    {
      "cell_type": "code",
      "metadata": {
        "id": "dgnWranebrHQ",
        "colab_type": "code",
        "colab": {
          "base_uri": "https://localhost:8080/",
          "height": 887
        },
        "outputId": "d2f84a2c-dfa5-45bd-8cc5-286c4867372e"
      },
      "source": [
        "model.fit(x_sharp_train, y_train_sharp, epochs=15)"
      ],
      "execution_count": 13,
      "outputs": [
        {
          "output_type": "stream",
          "text": [
            "WARNING:tensorflow:From /usr/local/lib/python3.6/dist-packages/tensorflow_core/python/ops/math_grad.py:1424: where (from tensorflow.python.ops.array_ops) is deprecated and will be removed in a future version.\n",
            "Instructions for updating:\n",
            "Use tf.where in 2.0, which has the same broadcast rule as np.where\n",
            "WARNING:tensorflow:From /usr/local/lib/python3.6/dist-packages/keras/backend/tensorflow_backend.py:1033: The name tf.assign_add is deprecated. Please use tf.compat.v1.assign_add instead.\n",
            "\n",
            "WARNING:tensorflow:From /usr/local/lib/python3.6/dist-packages/keras/backend/tensorflow_backend.py:1020: The name tf.assign is deprecated. Please use tf.compat.v1.assign instead.\n",
            "\n",
            "WARNING:tensorflow:From /usr/local/lib/python3.6/dist-packages/keras/backend/tensorflow_backend.py:3005: The name tf.Session is deprecated. Please use tf.compat.v1.Session instead.\n",
            "\n",
            "Epoch 1/15\n",
            "WARNING:tensorflow:From /usr/local/lib/python3.6/dist-packages/keras/backend/tensorflow_backend.py:190: The name tf.get_default_session is deprecated. Please use tf.compat.v1.get_default_session instead.\n",
            "\n",
            "WARNING:tensorflow:From /usr/local/lib/python3.6/dist-packages/keras/backend/tensorflow_backend.py:197: The name tf.ConfigProto is deprecated. Please use tf.compat.v1.ConfigProto instead.\n",
            "\n",
            "WARNING:tensorflow:From /usr/local/lib/python3.6/dist-packages/keras/backend/tensorflow_backend.py:207: The name tf.global_variables is deprecated. Please use tf.compat.v1.global_variables instead.\n",
            "\n",
            "WARNING:tensorflow:From /usr/local/lib/python3.6/dist-packages/keras/backend/tensorflow_backend.py:216: The name tf.is_variable_initialized is deprecated. Please use tf.compat.v1.is_variable_initialized instead.\n",
            "\n",
            "WARNING:tensorflow:From /usr/local/lib/python3.6/dist-packages/keras/backend/tensorflow_backend.py:223: The name tf.variables_initializer is deprecated. Please use tf.compat.v1.variables_initializer instead.\n",
            "\n",
            "1000/1000 [==============================] - 2s 2ms/step - loss: 2.6815 - binary_accuracy: 0.9000\n",
            "Epoch 2/15\n",
            "1000/1000 [==============================] - 2s 2ms/step - loss: 2.2711 - binary_accuracy: 0.9011\n",
            "Epoch 3/15\n",
            "1000/1000 [==============================] - 2s 2ms/step - loss: 1.9795 - binary_accuracy: 0.9000\n",
            "Epoch 4/15\n",
            "1000/1000 [==============================] - 2s 2ms/step - loss: 1.6667 - binary_accuracy: 0.9104\n",
            "Epoch 5/15\n",
            "1000/1000 [==============================] - 2s 2ms/step - loss: 1.6094 - binary_accuracy: 0.9120\n",
            "Epoch 6/15\n",
            "1000/1000 [==============================] - 2s 2ms/step - loss: 1.7242 - binary_accuracy: 0.9078\n",
            "Epoch 7/15\n",
            "1000/1000 [==============================] - 2s 2ms/step - loss: 1.5943 - binary_accuracy: 0.9142\n",
            "Epoch 8/15\n",
            "1000/1000 [==============================] - 2s 2ms/step - loss: 1.6359 - binary_accuracy: 0.9125\n",
            "Epoch 9/15\n",
            "1000/1000 [==============================] - 2s 2ms/step - loss: 2.0432 - binary_accuracy: 0.9037\n",
            "Epoch 10/15\n",
            "1000/1000 [==============================] - 2s 2ms/step - loss: 1.5197 - binary_accuracy: 0.9166\n",
            "Epoch 11/15\n",
            "1000/1000 [==============================] - 2s 2ms/step - loss: 1.5152 - binary_accuracy: 0.9210\n",
            "Epoch 12/15\n",
            "1000/1000 [==============================] - 2s 2ms/step - loss: 1.3816 - binary_accuracy: 0.9271\n",
            "Epoch 13/15\n",
            "1000/1000 [==============================] - 2s 2ms/step - loss: 1.4440 - binary_accuracy: 0.9226\n",
            "Epoch 14/15\n",
            "1000/1000 [==============================] - 2s 2ms/step - loss: 1.4280 - binary_accuracy: 0.9207\n",
            "Epoch 15/15\n",
            "1000/1000 [==============================] - 2s 2ms/step - loss: 1.5526 - binary_accuracy: 0.9151\n"
          ],
          "name": "stdout"
        },
        {
          "output_type": "execute_result",
          "data": {
            "text/plain": [
              "<keras.callbacks.History at 0x7f8f5abcddd8>"
            ]
          },
          "metadata": {
            "tags": []
          },
          "execution_count": 13
        }
      ]
    },
    {
      "cell_type": "code",
      "metadata": {
        "id": "8L15swL0ivwh",
        "colab_type": "code",
        "colab": {
          "base_uri": "https://localhost:8080/",
          "height": 544
        },
        "outputId": "0f180bc3-9347-44aa-e468-56e4828f7cb8"
      },
      "source": [
        "model2.fit(x_blur_train, y_train_blur, epochs=15)"
      ],
      "execution_count": 14,
      "outputs": [
        {
          "output_type": "stream",
          "text": [
            "Epoch 1/15\n",
            "1000/1000 [==============================] - 2s 2ms/step - loss: 2.6279 - binary_accuracy: 0.9000\n",
            "Epoch 2/15\n",
            "1000/1000 [==============================] - 2s 2ms/step - loss: 2.0150 - binary_accuracy: 0.9017\n",
            "Epoch 3/15\n",
            "1000/1000 [==============================] - 2s 2ms/step - loss: 1.7087 - binary_accuracy: 0.9089\n",
            "Epoch 4/15\n",
            "1000/1000 [==============================] - 2s 2ms/step - loss: 1.5841 - binary_accuracy: 0.9135\n",
            "Epoch 5/15\n",
            "1000/1000 [==============================] - 2s 2ms/step - loss: 1.6340 - binary_accuracy: 0.9109\n",
            "Epoch 6/15\n",
            "1000/1000 [==============================] - 2s 2ms/step - loss: 1.6345 - binary_accuracy: 0.9154\n",
            "Epoch 7/15\n",
            "1000/1000 [==============================] - 2s 2ms/step - loss: 1.9813 - binary_accuracy: 0.9024\n",
            "Epoch 8/15\n",
            "1000/1000 [==============================] - 2s 2ms/step - loss: 2.1206 - binary_accuracy: 0.9079\n",
            "Epoch 9/15\n",
            "1000/1000 [==============================] - 2s 2ms/step - loss: 1.7087 - binary_accuracy: 0.9164\n",
            "Epoch 10/15\n",
            "1000/1000 [==============================] - 2s 2ms/step - loss: 1.7115 - binary_accuracy: 0.9148\n",
            "Epoch 11/15\n",
            "1000/1000 [==============================] - 2s 2ms/step - loss: 1.8061 - binary_accuracy: 0.9123\n",
            "Epoch 12/15\n",
            "1000/1000 [==============================] - 2s 2ms/step - loss: 1.7747 - binary_accuracy: 0.9137\n",
            "Epoch 13/15\n",
            "1000/1000 [==============================] - 2s 2ms/step - loss: 1.5262 - binary_accuracy: 0.9178\n",
            "Epoch 14/15\n",
            "1000/1000 [==============================] - 2s 2ms/step - loss: 1.7991 - binary_accuracy: 0.9114\n",
            "Epoch 15/15\n",
            "1000/1000 [==============================] - 2s 2ms/step - loss: 1.9543 - binary_accuracy: 0.9143\n"
          ],
          "name": "stdout"
        },
        {
          "output_type": "execute_result",
          "data": {
            "text/plain": [
              "<keras.callbacks.History at 0x7f8f5abcd860>"
            ]
          },
          "metadata": {
            "tags": []
          },
          "execution_count": 14
        }
      ]
    },
    {
      "cell_type": "code",
      "metadata": {
        "id": "15WwecZjiv8V",
        "colab_type": "code",
        "colab": {
          "base_uri": "https://localhost:8080/",
          "height": 544
        },
        "outputId": "fa1d1f08-8ce4-4f8c-e532-9b38cc5e1a64"
      },
      "source": [
        "model3.fit(x_both_train, y_train_both, epochs=15)"
      ],
      "execution_count": 15,
      "outputs": [
        {
          "output_type": "stream",
          "text": [
            "Epoch 1/15\n",
            "1000/1000 [==============================] - 2s 2ms/step - loss: 2.6403 - binary_accuracy: 0.9000\n",
            "Epoch 2/15\n",
            "1000/1000 [==============================] - 2s 2ms/step - loss: 2.0490 - binary_accuracy: 0.9045\n",
            "Epoch 3/15\n",
            "1000/1000 [==============================] - 2s 2ms/step - loss: 1.7631 - binary_accuracy: 0.9082\n",
            "Epoch 4/15\n",
            "1000/1000 [==============================] - 2s 2ms/step - loss: 1.7120 - binary_accuracy: 0.9060\n",
            "Epoch 5/15\n",
            "1000/1000 [==============================] - 2s 2ms/step - loss: 1.8548 - binary_accuracy: 0.9043\n",
            "Epoch 6/15\n",
            "1000/1000 [==============================] - 2s 2ms/step - loss: 1.6046 - binary_accuracy: 0.9175\n",
            "Epoch 7/15\n",
            "1000/1000 [==============================] - 2s 2ms/step - loss: 1.8594 - binary_accuracy: 0.9066\n",
            "Epoch 8/15\n",
            "1000/1000 [==============================] - 2s 2ms/step - loss: 1.5815 - binary_accuracy: 0.9159\n",
            "Epoch 9/15\n",
            "1000/1000 [==============================] - 2s 2ms/step - loss: 2.0195 - binary_accuracy: 0.9051\n",
            "Epoch 10/15\n",
            "1000/1000 [==============================] - 2s 2ms/step - loss: 1.6040 - binary_accuracy: 0.9177\n",
            "Epoch 11/15\n",
            "1000/1000 [==============================] - 2s 2ms/step - loss: 1.6582 - binary_accuracy: 0.9131\n",
            "Epoch 12/15\n",
            "1000/1000 [==============================] - 2s 2ms/step - loss: 1.5405 - binary_accuracy: 0.9197\n",
            "Epoch 13/15\n",
            "1000/1000 [==============================] - 2s 2ms/step - loss: 1.4686 - binary_accuracy: 0.9213\n",
            "Epoch 14/15\n",
            "1000/1000 [==============================] - 2s 2ms/step - loss: 1.4636 - binary_accuracy: 0.9259\n",
            "Epoch 15/15\n",
            "1000/1000 [==============================] - 2s 2ms/step - loss: 1.3755 - binary_accuracy: 0.9235\n"
          ],
          "name": "stdout"
        },
        {
          "output_type": "execute_result",
          "data": {
            "text/plain": [
              "<keras.callbacks.History at 0x7f8f54b44550>"
            ]
          },
          "metadata": {
            "tags": []
          },
          "execution_count": 15
        }
      ]
    },
    {
      "cell_type": "code",
      "metadata": {
        "id": "c6YHVwQhq15p",
        "colab_type": "code",
        "colab": {
          "base_uri": "https://localhost:8080/",
          "height": 544
        },
        "outputId": "6cfad1c7-d170-4616-fcb7-09d566dc2bc7"
      },
      "source": [
        "model4.fit(x_train, y_train_sharp, epochs=15)"
      ],
      "execution_count": 16,
      "outputs": [
        {
          "output_type": "stream",
          "text": [
            "Epoch 1/15\n",
            "1000/1000 [==============================] - 2s 2ms/step - loss: 2.6738 - binary_accuracy: 0.9000\n",
            "Epoch 2/15\n",
            "1000/1000 [==============================] - 2s 2ms/step - loss: 2.0752 - binary_accuracy: 0.9020\n",
            "Epoch 3/15\n",
            "1000/1000 [==============================] - 2s 2ms/step - loss: 1.7184 - binary_accuracy: 0.9081\n",
            "Epoch 4/15\n",
            "1000/1000 [==============================] - 2s 2ms/step - loss: 1.6136 - binary_accuracy: 0.9123\n",
            "Epoch 5/15\n",
            "1000/1000 [==============================] - 2s 2ms/step - loss: 1.5878 - binary_accuracy: 0.9124\n",
            "Epoch 6/15\n",
            "1000/1000 [==============================] - 2s 2ms/step - loss: 1.4912 - binary_accuracy: 0.9167\n",
            "Epoch 7/15\n",
            "1000/1000 [==============================] - 2s 2ms/step - loss: 1.4432 - binary_accuracy: 0.9179\n",
            "Epoch 8/15\n",
            "1000/1000 [==============================] - 2s 2ms/step - loss: 1.4407 - binary_accuracy: 0.9203\n",
            "Epoch 9/15\n",
            "1000/1000 [==============================] - 2s 2ms/step - loss: 1.5378 - binary_accuracy: 0.9145\n",
            "Epoch 10/15\n",
            "1000/1000 [==============================] - 2s 2ms/step - loss: 1.4420 - binary_accuracy: 0.9172\n",
            "Epoch 11/15\n",
            "1000/1000 [==============================] - 2s 2ms/step - loss: 1.5029 - binary_accuracy: 0.9193\n",
            "Epoch 12/15\n",
            "1000/1000 [==============================] - 2s 2ms/step - loss: 1.3159 - binary_accuracy: 0.9253\n",
            "Epoch 13/15\n",
            "1000/1000 [==============================] - 2s 2ms/step - loss: 1.3304 - binary_accuracy: 0.9233\n",
            "Epoch 14/15\n",
            "1000/1000 [==============================] - 2s 2ms/step - loss: 1.3291 - binary_accuracy: 0.9211\n",
            "Epoch 15/15\n",
            "1000/1000 [==============================] - 2s 2ms/step - loss: 1.3211 - binary_accuracy: 0.9270\n"
          ],
          "name": "stdout"
        },
        {
          "output_type": "execute_result",
          "data": {
            "text/plain": [
              "<keras.callbacks.History at 0x7f8f5ab9cf28>"
            ]
          },
          "metadata": {
            "tags": []
          },
          "execution_count": 16
        }
      ]
    },
    {
      "cell_type": "code",
      "metadata": {
        "id": "HflODSlfkoCV",
        "colab_type": "code",
        "colab": {}
      },
      "source": [
        "def vote(w, x, y, z):\n",
        "  votelist = [x, y, z, w]\n",
        "  countx = votelist.count(x)\n",
        "  county = votelist.count(y)\n",
        "  countz = votelist.count(z)\n",
        "  countw = votelist.count(w)\n",
        "\n",
        "  countlist = [countx, county, countz, countw]\n",
        "  maxcount = max(countlist)\n",
        "\n",
        "  for i in range(len(countlist)):\n",
        "    if countlist[i] == maxcount:\n",
        "      return votelist[i]"
      ],
      "execution_count": 0,
      "outputs": []
    },
    {
      "cell_type": "code",
      "metadata": {
        "id": "HjtqKPkmh-SB",
        "colab_type": "code",
        "colab": {}
      },
      "source": [
        "test_ready = preprocess(test_images)"
      ],
      "execution_count": 0,
      "outputs": []
    },
    {
      "cell_type": "code",
      "metadata": {
        "id": "5PRUcoiVoKu-",
        "colab_type": "code",
        "colab": {}
      },
      "source": [
        "classes1 = model.predict(test_ready)\n",
        "classes2 = model2.predict(test_ready)\n",
        "classes3 = model3.predict(test_ready)\n",
        "classes4 = model4.predict(test_ready)"
      ],
      "execution_count": 0,
      "outputs": []
    },
    {
      "cell_type": "code",
      "metadata": {
        "id": "l5qb0k4LocnN",
        "colab_type": "code",
        "colab": {}
      },
      "source": [
        "classes1 = classes1.argmax(axis=1)\n",
        "classes2 = classes2.argmax(axis=1)\n",
        "classes3 = classes3.argmax(axis=1)\n",
        "classes4 = classes4.argmax(axis=1)"
      ],
      "execution_count": 0,
      "outputs": []
    },
    {
      "cell_type": "code",
      "metadata": {
        "id": "Qv-L-D8go_ru",
        "colab_type": "code",
        "colab": {}
      },
      "source": [
        "finalpred = classes1\n",
        "for i in range(len(classes1)):\n",
        "  w = classes4[i]\n",
        "  x = classes1[i]\n",
        "  y = classes2[i]\n",
        "  z = classes3[i]\n",
        "  finalpred[i] = vote(x, y, z, w)"
      ],
      "execution_count": 0,
      "outputs": []
    },
    {
      "cell_type": "code",
      "metadata": {
        "id": "OQL3i2GBpNk7",
        "colab_type": "code",
        "colab": {
          "base_uri": "https://localhost:8080/",
          "height": 34
        },
        "outputId": "cde6d25a-9736-42c0-bc85-1d23e9eaec7f"
      },
      "source": [
        "count = 0\n",
        "with open('submission_sharp.csv', 'w', newline='') as csvfile:\n",
        "    writer = csv.writer(csvfile, delimiter=',')\n",
        "    writer.writerow(['ID', 'label'])\n",
        "    for idx, val in enumerate(classes1):\n",
        "        writer.writerow([str(idx), str(val)])\n",
        "        count += 1\n",
        "        \n",
        "print(count)"
      ],
      "execution_count": 46,
      "outputs": [
        {
          "output_type": "stream",
          "text": [
            "20000\n"
          ],
          "name": "stdout"
        }
      ]
    },
    {
      "cell_type": "code",
      "metadata": {
        "id": "snck6Edvp50z",
        "colab_type": "code",
        "colab": {
          "base_uri": "https://localhost:8080/",
          "height": 34
        },
        "outputId": "f7de9876-2d2e-4a1a-e8d8-582a70c1cde8"
      },
      "source": [
        "count = 0\n",
        "with open('submission_blur.csv', 'w', newline='') as csvfile:\n",
        "    writer = csv.writer(csvfile, delimiter=',')\n",
        "    writer.writerow(['ID', 'label'])\n",
        "    for idx, val in enumerate(classes2):\n",
        "        writer.writerow([str(idx), str(val)])\n",
        "        count += 1\n",
        "        \n",
        "print(count)"
      ],
      "execution_count": 47,
      "outputs": [
        {
          "output_type": "stream",
          "text": [
            "20000\n"
          ],
          "name": "stdout"
        }
      ]
    },
    {
      "cell_type": "code",
      "metadata": {
        "id": "PwHZU-4kuV5z",
        "colab_type": "code",
        "colab": {
          "base_uri": "https://localhost:8080/",
          "height": 34
        },
        "outputId": "dbf720e2-ad87-4896-dbb6-1adb5dff41bc"
      },
      "source": [
        "count = 0\n",
        "with open('submission_both.csv', 'w', newline='') as csvfile:\n",
        "    writer = csv.writer(csvfile, delimiter=',')\n",
        "    writer.writerow(['ID', 'label'])\n",
        "    for idx, val in enumerate(classes3):\n",
        "        writer.writerow([str(idx), str(val)])\n",
        "        count += 1\n",
        "        \n",
        "print(count)"
      ],
      "execution_count": 48,
      "outputs": [
        {
          "output_type": "stream",
          "text": [
            "20000\n"
          ],
          "name": "stdout"
        }
      ]
    },
    {
      "cell_type": "code",
      "metadata": {
        "id": "z3jpIuWHuWRa",
        "colab_type": "code",
        "colab": {
          "base_uri": "https://localhost:8080/",
          "height": 34
        },
        "outputId": "a04665ae-37a9-44e2-a485-638a38424fa6"
      },
      "source": [
        "count = 0\n",
        "with open('submission_all.csv', 'w', newline='') as csvfile:\n",
        "    writer = csv.writer(csvfile, delimiter=',')\n",
        "    writer.writerow(['ID', 'label'])\n",
        "    for idx, val in enumerate(finalpred):\n",
        "        writer.writerow([str(idx), str(val)])\n",
        "        count += 1\n",
        "        \n",
        "print(count)"
      ],
      "execution_count": 49,
      "outputs": [
        {
          "output_type": "stream",
          "text": [
            "20000\n"
          ],
          "name": "stdout"
        }
      ]
    },
    {
      "cell_type": "code",
      "metadata": {
        "id": "5ZEiEgfdukrx",
        "colab_type": "code",
        "colab": {
          "base_uri": "https://localhost:8080/",
          "height": 1000
        },
        "outputId": "062d190e-a0a3-4012-f4b1-6b721436842c"
      },
      "source": [
        "viewImages(test_images[:10])"
      ],
      "execution_count": 50,
      "outputs": [
        {
          "output_type": "display_data",
          "data": {
            "image/png": "[encoded data removed]",
            "text/plain": [
              "<Figure size 432x288 with 1 Axes>"
            ]
          },
          "metadata": {
            "tags": []
          }
        },
        {
          "output_type": "display_data",
          "data": {
            "image/png": "[encoded data removed]",
            "text/plain": [
              "<Figure size 432x288 with 1 Axes>"
            ]
          },
          "metadata": {
            "tags": []
          }
        },
        {
          "output_type": "display_data",
          "data": {
            "image/png": "[encoded data removed]",
            "text/plain": [
              "<Figure size 432x288 with 1 Axes>"
            ]
          },
          "metadata": {
            "tags": []
          }
        },
        {
          "output_type": "display_data",
          "data": {
            "image/png": "[encoded data removed]",
            "text/plain": [
              "<Figure size 432x288 with 1 Axes>"
            ]
          },
          "metadata": {
            "tags": []
          }
        },
        {
          "output_type": "display_data",
          "data": {
            "image/png": "[encoded data removed]",
            "text/plain": [
              "<Figure size 432x288 with 1 Axes>"
            ]
          },
          "metadata": {
            "tags": []
          }
        },
        {
          "output_type": "display_data",
          "data": {
            "image/png": "[encoded data removed]",
            "text/plain": [
              "<Figure size 432x288 with 1 Axes>"
            ]
          },
          "metadata": {
            "tags": []
          }
        },
        {
          "output_type": "display_data",
          "data": {
            "image/png": "[encoded data removed]",
            "text/plain": [
              "<Figure size 432x288 with 1 Axes>"
            ]
          },
          "metadata": {
            "tags": []
          }
        },
        {
          "output_type": "display_data",
          "data": {
            "image/png": "[encoded data removed]",
            "text/plain": [
              "<Figure size 432x288 with 1 Axes>"
            ]
          },
          "metadata": {
            "tags": []
          }
        },
        {
          "output_type": "display_data",
          "data": {
            "image/png": "[encoded data removed]",
            "text/plain": [
              "<Figure size 432x288 with 1 Axes>"
            ]
          },
          "metadata": {
            "tags": []
          }
        },
        {
          "output_type": "display_data",
          "data": {
            "image/png": "[encoded data removed]",
            "text/plain": [
              "<Figure size 432x288 with 1 Axes>"
            ]
          },
          "metadata": {
            "tags": []
          }
        }
      ]
    },
    {
      "cell_type": "code",
      "metadata": {
        "id": "t9a0sIL4uolB",
        "colab_type": "code",
        "colab": {}
      },
      "source": [
        ""
      ],
      "execution_count": 0,
      "outputs": []
    }
  ]
}