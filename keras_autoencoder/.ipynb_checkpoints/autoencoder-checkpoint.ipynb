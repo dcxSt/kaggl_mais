{
 "cells": [
  {
   "cell_type": "code",
   "execution_count": 193,
   "metadata": {},
   "outputs": [],
   "source": [
    "import numpy as np\n",
    "import keras\n",
    "from keras.layers import Input, Conv2D, UpSampling2D, MaxPooling2D, Dense, Flatten\n",
    "from keras.models import Model, Sequential\n",
    "from keras.callbacks import TensorBoard\n",
    "from matplotlib import pyplot as plt\n",
    "from scipy.signal import convolve2d\n",
    "from keras import regularizers\n",
    "import csv"
   ]
  },
  {
   "cell_type": "code",
   "execution_count": 170,
   "metadata": {},
   "outputs": [
    {
     "name": "stdout",
     "output_type": "stream",
     "text": [
      "(50000, 28, 28)\n"
     ]
    }
   ],
   "source": [
    "train_images = np.load(\"../train_images.npy\")\n",
    "print(train_images.shape)"
   ]
  },
  {
   "cell_type": "code",
   "execution_count": 171,
   "metadata": {},
   "outputs": [
    {
     "name": "stdout",
     "output_type": "stream",
     "text": [
      "(20000, 28, 28, 1)\n"
     ]
    }
   ],
   "source": [
    "test_images = np.load(\"../test_images.npy\")\n",
    "test_images = np.reshape(test_images, (test_images.shape[0], 28, 28, 1))\n",
    "print(test_images.shape)"
   ]
  },
  {
   "cell_type": "markdown",
   "metadata": {},
   "source": [
    "## Visualize the images"
   ]
  },
  {
   "cell_type": "code",
   "execution_count": 172,
   "metadata": {},
   "outputs": [],
   "source": [
    "def viewImages(arr):\n",
    "    for img in arr:\n",
    "        two_d = (np.reshape(img, (28,28))*255).astype(np.uint8)\n",
    "        plt.imshow(two_d, cmap='Greys', interpolation='nearest')\n",
    "        plt.show()\n",
    "        \n",
    "def viewImage(img):\n",
    "    two_d = (np.reshape(img, (28, 28))*255).astype(np.uint8)\n",
    "    plt.imshow(two_d, cmap='Greys', interpolation='nearest')\n",
    "    plt.show()"
   ]
  },
  {
   "cell_type": "markdown",
   "metadata": {},
   "source": [
    "## Preprocessing"
   ]
  },
  {
   "cell_type": "code",
   "execution_count": 174,
   "metadata": {},
   "outputs": [],
   "source": [
    "# Clean training images to train autoencoder\n",
    "def find_holes(im, threshold=100):\n",
    "    kernel = [[1, 1, 1], [1, -8, 1], [1, 1, 1]]\n",
    "    conv = convolve2d(im, kernel, mode='same')\n",
    "    max_diff = np.max(conv)\n",
    "    return np.maximum(0, np.minimum(255, 255 * conv / max_diff)) > threshold\n",
    "    \n",
    "def fix_holes(im, holes=None, threshold=100):\n",
    "    if holes is None:\n",
    "        holes = find_holes(im, threshold)\n",
    "        \n",
    "    kernel = 1/8 * np.array([[1, 1, 1], [1, 0, 1], [1, 1, 1]])\n",
    "    conv = convolve2d(im, kernel, mode='same')\n",
    "    result = np.array(im)\n",
    "    result[holes] = conv[holes].flatten()\n",
    "    return result.flatten()\n",
    "\n",
    "train_images_clean = np.array([fix_holes(im) for im in train_images])"
   ]
  },
  {
   "cell_type": "code",
   "execution_count": 180,
   "metadata": {},
   "outputs": [],
   "source": [
    "def preprocess(arr):\n",
    "    # Reshape images to 28x28x1\n",
    "    tmp = np.reshape(arr, (arr.shape[0], 28, 28, 1))\n",
    "    \n",
    "    # Normalize\n",
    "    tmp = tmp / 255.0\n",
    "    \n",
    "    return tmp"
   ]
  },
  {
   "cell_type": "code",
   "execution_count": 181,
   "metadata": {},
   "outputs": [
    {
     "data": {
      "image/png": "[encoded data removed]",
      "text/plain": [
       "<Figure size 432x288 with 1 Axes>"
      ]
     },
     "metadata": {
      "needs_background": "light"
     },
     "output_type": "display_data"
    },
    {
     "data": {
      "image/png": "[encoded data removed]",
      "text/plain": [
       "<Figure size 432x288 with 1 Axes>"
      ]
     },
     "metadata": {
      "needs_background": "light"
     },
     "output_type": "display_data"
    }
   ],
   "source": [
    "# Normalize data\n",
    "train_img = preprocess(train_images)\n",
    "clean_train_img = preprocess(train_images_clean)\n",
    "test_img = preprocess(test_images)\n",
    "\n",
    "# Add noise to training data to train autoencoder\n",
    "noise_factor = 0.07\n",
    "train_img_noisy = train_img + noise_factor * np.random.normal(loc=0.0, scale=1.0, size=train_img.shape) \n",
    "train_img_noisy = np.clip(train_img_noisy, 0., 1.)\n",
    "viewImages(train_img[:1])\n",
    "viewImages(train_img_noisy[:1])"
   ]
  },
  {
   "cell_type": "markdown",
   "metadata": {},
   "source": [
    "## Autoencoder\n",
    "Understanding Autoencoders Using TensorFlow: https://www.learnopencv.com/understanding-autoencoders-using-tensorflow-python/\n",
    "\n",
    "Building Autoencoders in Keras: https://blog.keras.io/building-autoencoders-in-keras.html\n",
    "\n",
    "Keras Autoencoders: Beginners Tutorial: https://www.datacamp.com/community/tutorials/autoencoder-keras-tutorial#denoising_ae"
   ]
  },
  {
   "cell_type": "code",
   "execution_count": 122,
   "metadata": {},
   "outputs": [],
   "source": [
    "# Encoder\n",
    "input_img = Input(shape=(28,28,1))\n",
    "\n",
    "x = Conv2D(32, (3, 3), activation='relu', padding='same')(input_img)\n",
    "x = MaxPooling2D((2,2), padding='same')(x)\n",
    "x = Conv2D(32, (3, 3), activation='relu', padding='same')(x)\n",
    "encoded = MaxPooling2D((2,2), padding='same')(x)\n",
    "\n",
    "# Decoder\n",
    "x = Conv2D(32, (3,3), activation='relu', padding='same')(encoded)\n",
    "x = UpSampling2D((2, 2))(x)\n",
    "x = Conv2D(32, (3, 3), activation='relu', padding='same')(x)\n",
    "x = UpSampling2D((2,2))(x)\n",
    "decoded = Conv2D(1, (3,3), activation='sigmoid', padding='same')(x)\n",
    "\n",
    "autoencoder = Model(input_img, decoded)\n",
    "autoencoder.compile(optimizer='rmsprop', loss='mean_squared_error')"
   ]
  },
  {
   "cell_type": "code",
   "execution_count": 162,
   "metadata": {
    "scrolled": true
   },
   "outputs": [
    {
     "name": "stdout",
     "output_type": "stream",
     "text": [
      "Train on 1000 samples, validate on 100 samples\n",
      "Epoch 1/20\n",
      "1000/1000 [==============================] - 67s 67ms/step - loss: 0.6077 - val_loss: 0.6032\n",
      "Epoch 2/20\n",
      "1000/1000 [==============================] - 78s 78ms/step - loss: 0.6071 - val_loss: 0.5975\n",
      "Epoch 3/20\n",
      "1000/1000 [==============================] - 80s 80ms/step - loss: 0.6048 - val_loss: 0.6068\n",
      "Epoch 4/20\n",
      "1000/1000 [==============================] - 84s 84ms/step - loss: 0.6053 - val_loss: 0.5981\n",
      "Epoch 5/20\n",
      "1000/1000 [==============================] - 86s 86ms/step - loss: 0.6038 - val_loss: 0.6062\n",
      "Epoch 6/20\n",
      "1000/1000 [==============================] - 84s 84ms/step - loss: 0.6053 - val_loss: 0.6083\n",
      "Epoch 7/20\n",
      "1000/1000 [==============================] - 85s 85ms/step - loss: 0.6021 - val_loss: 0.5954\n",
      "Epoch 8/20\n",
      "1000/1000 [==============================] - 94s 94ms/step - loss: 0.6043 - val_loss: 0.6155\n",
      "Epoch 9/20\n",
      "1000/1000 [==============================] - 88s 88ms/step - loss: 0.6019 - val_loss: 0.5963\n",
      "Epoch 10/20\n",
      "1000/1000 [==============================] - 88s 88ms/step - loss: 0.6059 - val_loss: 0.5944\n",
      "Epoch 11/20\n",
      "1000/1000 [==============================] - 97s 97ms/step - loss: 0.6013 - val_loss: 0.5942\n",
      "Epoch 12/20\n",
      "1000/1000 [==============================] - 78s 78ms/step - loss: 0.6039 - val_loss: 0.6043\n",
      "Epoch 13/20\n",
      "1000/1000 [==============================] - 103s 103ms/step - loss: 0.6025 - val_loss: 0.5958\n",
      "Epoch 14/20\n",
      "1000/1000 [==============================] - 100s 100ms/step - loss: 0.6027 - val_loss: 0.5985\n",
      "Epoch 15/20\n",
      "1000/1000 [==============================] - 104s 104ms/step - loss: 0.6017 - val_loss: 0.6030\n",
      "Epoch 16/20\n",
      "1000/1000 [==============================] - 97s 97ms/step - loss: 0.6013 - val_loss: 0.5956\n",
      "Epoch 17/20\n",
      "1000/1000 [==============================] - 102s 102ms/step - loss: 0.6014 - val_loss: 0.5946\n",
      "Epoch 18/20\n",
      "1000/1000 [==============================] - 101s 101ms/step - loss: 0.6012 - val_loss: 0.5956\n",
      "Epoch 19/20\n",
      "1000/1000 [==============================] - 104s 104ms/step - loss: 0.6011 - val_loss: 0.5929\n",
      "Epoch 20/20\n",
      "1000/1000 [==============================] - 67s 67ms/step - loss: 0.6006 - val_loss: 0.5965\n"
     ]
    },
    {
     "data": {
      "text/plain": [
       "<keras.callbacks.callbacks.History at 0x189985aab70>"
      ]
     },
     "execution_count": 162,
     "metadata": {},
     "output_type": "execute_result"
    }
   ],
   "source": [
    "autoencoder.fit(train_images_noisy[:1000], train_images_clean_norm[:1000], epochs=20, validation_data=(train_images_norm[1000:1100], train_images_clean_norm[1000:1100]))"
   ]
  },
  {
   "cell_type": "code",
   "execution_count": 190,
   "metadata": {},
   "outputs": [],
   "source": [
    "x_train = autoencoder.predict(train_img[10000:11000])"
   ]
  },
  {
   "cell_type": "code",
   "execution_count": 199,
   "metadata": {
    "scrolled": true
   },
   "outputs": [],
   "source": [
    "x_valid = autoencoder.predict(train_img[11000:12000])"
   ]
  },
  {
   "cell_type": "markdown",
   "metadata": {},
   "source": [
    "## CNN"
   ]
  },
  {
   "cell_type": "code",
   "execution_count": 200,
   "metadata": {},
   "outputs": [],
   "source": [
    "with open('../train_labels.csv', 'r') as csvfile:\n",
    "    reader = csv.reader(csvfile)\n",
    "    train_labels = np.array(list(reader))[1:,1]\n",
    "    \n",
    "labels = np.zeros((10, 10))\n",
    "for i in range(10):\n",
    "    labels[i, i] = 1\n",
    "\n",
    "train_labels = np.array([labels[int(x), :] for x in train_labels])\n",
    "\n",
    "y_train = train_labels[10000:11000]\n",
    "y_valid = train_labels[11000:12000]"
   ]
  },
  {
   "cell_type": "code",
   "execution_count": 197,
   "metadata": {},
   "outputs": [],
   "source": [
    "model = Sequential()\n",
    "\n",
    "model.add(Conv2D(filters=64, kernel_size=5, activation='relu', \n",
    "                  input_shape=(28, 28, 1), kernel_regularizer=regularizers.l2(0.01)))\n",
    "\n",
    "model.add(MaxPooling2D(pool_size=(2, 2), padding='valid'))\n",
    "model.add(Conv2D(filters=32, kernel_size=5, activation='relu', kernel_regularizer=regularizers.l2(0.01)))\n",
    "\n",
    "model.add(MaxPooling2D(pool_size=(2, 2), padding='valid'))\n",
    "model.add(Conv2D(filters=32, kernel_size=3, activation='relu', kernel_regularizer=regularizers.l2(0.01)))\n",
    "\n",
    "model.add(Flatten())\n",
    "model.add(Dense(units=10, activation='softmax'))\n",
    "\n",
    "model.compile(loss=keras.losses.categorical_crossentropy,\n",
    "              optimizer=keras.optimizers.Adadelta(learning_rate=0.1, rho=0.95),\n",
    "              metrics=[keras.metrics.BinaryAccuracy()])"
   ]
  },
  {
   "cell_type": "code",
   "execution_count": 198,
   "metadata": {},
   "outputs": [
    {
     "name": "stdout",
     "output_type": "stream",
     "text": [
      "Epoch 1/10\n",
      "1000/1000 [==============================] - 46s 46ms/step - loss: 3.0319 - binary_accuracy: 0.9000\n",
      "Epoch 2/10\n",
      "1000/1000 [==============================] - 40s 40ms/step - loss: 2.9447 - binary_accuracy: 0.9000\n",
      "Epoch 3/10\n",
      "1000/1000 [==============================] - 35s 35ms/step - loss: 2.8355 - binary_accuracy: 0.9000\n",
      "Epoch 4/10\n",
      "1000/1000 [==============================] - 38s 38ms/step - loss: 2.6676 - binary_accuracy: 0.9000\n",
      "Epoch 5/10\n",
      "1000/1000 [==============================] - 42s 42ms/step - loss: 2.4245 - binary_accuracy: 0.9011\n",
      "Epoch 6/10\n",
      "1000/1000 [==============================] - 36s 36ms/step - loss: 2.1821 - binary_accuracy: 0.9056\n",
      "Epoch 7/10\n",
      "1000/1000 [==============================] - 48s 48ms/step - loss: 1.9398 - binary_accuracy: 0.9130\n",
      "Epoch 8/10\n",
      "1000/1000 [==============================] - 37s 37ms/step - loss: 1.8547 - binary_accuracy: 0.9132\n",
      "Epoch 9/10\n",
      "1000/1000 [==============================] - 35s 35ms/step - loss: 1.7057 - binary_accuracy: 0.9202\n",
      "Epoch 10/10\n",
      "1000/1000 [==============================] - 35s 35ms/step - loss: 1.6421 - binary_accuracy: 0.9210\n"
     ]
    },
    {
     "data": {
      "text/plain": [
       "<keras.callbacks.callbacks.History at 0x18995d715f8>"
      ]
     },
     "execution_count": 198,
     "metadata": {},
     "output_type": "execute_result"
    }
   ],
   "source": [
    "model.fit(x_train, y_train, epochs=10)"
   ]
  },
  {
   "cell_type": "code",
   "execution_count": 201,
   "metadata": {},
   "outputs": [
    {
     "name": "stdout",
     "output_type": "stream",
     "text": [
      "1000/1000 [==============================] - 14s 14ms/step\n",
      "[1.6886349391937256, 0.9203000664710999]\n"
     ]
    }
   ],
   "source": [
    "loss_and_metrics = model.evaluate(x_valid, y_valid)\n",
    "print(loss_and_metrics)"
   ]
  },
  {
   "cell_type": "code",
   "execution_count": 202,
   "metadata": {},
   "outputs": [],
   "source": [
    "test_img_clean = autoencoder.predict(test_img)"
   ]
  },
  {
   "cell_type": "code",
   "execution_count": 203,
   "metadata": {},
   "outputs": [],
   "source": [
    "classes = model.predict(test_img_clean)"
   ]
  },
  {
   "cell_type": "code",
   "execution_count": 205,
   "metadata": {},
   "outputs": [],
   "source": [
    "classes = classes.argmax(axis=1)"
   ]
  },
  {
   "cell_type": "code",
   "execution_count": 206,
   "metadata": {},
   "outputs": [
    {
     "name": "stdout",
     "output_type": "stream",
     "text": [
      "20000\n"
     ]
    }
   ],
   "source": [
    "count = 0\n",
    "with open('submission0.csv', 'w', newline='') as csvfile:\n",
    "    writer = csv.writer(csvfile, delimiter=',')\n",
    "    writer.writerow(['ID', 'label'])\n",
    "    for idx, val in enumerate(classes):\n",
    "        writer.writerow([str(idx), str(val)])\n",
    "        count += 1\n",
    "        \n",
    "print(count)"
   ]
  },
  {
   "cell_type": "code",
   "execution_count": 207,
   "metadata": {},
   "outputs": [
    {
     "data": {
      "image/png": "[encoded data removed]",
      "text/plain": [
       "<Figure size 432x288 with 1 Axes>"
      ]
     },
     "metadata": {
      "needs_background": "light"
     },
     "output_type": "display_data"
    },
    {
     "data": {
      "image/png": "[encoded data removed]",
      "text/plain": [
       "<Figure size 432x288 with 1 Axes>"
      ]
     },
     "metadata": {
      "needs_background": "light"
     },
     "output_type": "display_data"
    },
    {
     "data": {
      "image/png": "[encoded data removed]",
      "text/plain": [
       "<Figure size 432x288 with 1 Axes>"
      ]
     },
     "metadata": {
      "needs_background": "light"
     },
     "output_type": "display_data"
    },
    {
     "data": {
      "image/png": "[encoded data removed]",
      "text/plain": [
       "<Figure size 432x288 with 1 Axes>"
      ]
     },
     "metadata": {
      "needs_background": "light"
     },
     "output_type": "display_data"
    },
    {
     "data": {
      "image/png": "[encoded data removed]",
      "text/plain": [
       "<Figure size 432x288 with 1 Axes>"
      ]
     },
     "metadata": {
      "needs_background": "light"
     },
     "output_type": "display_data"
    },
    {
     "data": {
      "image/png": "[encoded data removed]",
      "text/plain": [
       "<Figure size 432x288 with 1 Axes>"
      ]
     },
     "metadata": {
      "needs_background": "light"
     },
     "output_type": "display_data"
    },
    {
     "data": {
      "image/png": "[encoded data removed]",
      "text/plain": [
       "<Figure size 432x288 with 1 Axes>"
      ]
     },
     "metadata": {
      "needs_background": "light"
     },
     "output_type": "display_data"
    },
    {
     "data": {
      "image/png": "[encoded data removed]",
      "text/plain": [
       "<Figure size 432x288 with 1 Axes>"
      ]
     },
     "metadata": {
      "needs_background": "light"
     },
     "output_type": "display_data"
    },
    {
     "data": {
      "image/png": "[encoded data removed]",
      "text/plain": [
       "<Figure size 432x288 with 1 Axes>"
      ]
     },
     "metadata": {
      "needs_background": "light"
     },
     "output_type": "display_data"
    },
    {
     "data": {
      "image/png": "[encoded data removed]",
      "text/plain": [
       "<Figure size 432x288 with 1 Axes>"
      ]
     },
     "metadata": {
      "needs_background": "light"
     },
     "output_type": "display_data"
    }
   ],
   "source": [
    "viewImages(test_img[:10])"
   ]
  },
  {
   "cell_type": "code",
   "execution_count": null,
   "metadata": {},
   "outputs": [],
   "source": []
  }
 ],
 "metadata": {
  "kernelspec": {
   "display_name": "Python 3",
   "language": "python",
   "name": "python3"
  },
  "language_info": {
   "codemirror_mode": {
    "name": "ipython",
    "version": 3
   },
   "file_extension": ".py",
   "mimetype": "text/x-python",
   "name": "python",
   "nbconvert_exporter": "python",
   "pygments_lexer": "ipython3",
   "version": "3.7.2"
  }
 },
 "nbformat": 4,
 "nbformat_minor": 2
}
