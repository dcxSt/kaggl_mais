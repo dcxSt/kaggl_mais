{
 "cells": [
  {
   "cell_type": "code",
   "execution_count": 28,
   "metadata": {},
   "outputs": [
    {
     "name": "stdout",
     "output_type": "stream",
     "text": [
      "keras is using tensorflow as the backend\n"
     ]
    }
   ],
   "source": [
    "import numpy as np\n",
    "import torch\n",
    "import torchvision\n",
    "import torchvision.transforms as transforms\n",
    "import csv\n",
    "import matplotlib.pyplot as plt\n",
    "\n",
    "# keras imports\n",
    "import keras\n",
    "from keras import backend as K\n",
    "backend_keras = keras.backend.backend()\n",
    "print(\"keras is using\", backend_keras,\"as the backend\")\n",
    "\n",
    "# import a whole bunch of other packeges\n",
    "import matplotlib\n",
    "matplotlib.use(\"Agg\")\n",
    "\n",
    "from sklearn.preprocessing import LabelBinarizer\n",
    "from sklearn import preprocessing\n",
    "from sklearn.model_selection import train_test_split\n",
    "from sklearn.metrics import classification_report\n",
    "from keras.models import Sequential\n",
    "from keras.layers.core import Dense\n",
    "from keras.optimizers import SGD\n",
    "from imutils import paths\n",
    "import matplotlib.pyplot as plt\n",
    "import numpy as np\n",
    "import argparse\n",
    "import random\n",
    "import keras\n",
    "import pickle\n",
    "import cv2\n",
    "import os"
   ]
  },
  {
   "cell_type": "code",
   "execution_count": 66,
   "metadata": {},
   "outputs": [],
   "source": [
    "def show_image(arr):\n",
    "    two_d = (np.reshape(arr, (28,28))*255).astype(np.uint8)\n",
    "    plt.imshow(two_d, cmap='Greys', interpolation='nearest')\n",
    "    plt.show()\n",
    "\n",
    "train_images = np.load(\"train_images.npy\")\n"
   ]
  },
  {
   "cell_type": "markdown",
   "metadata": {},
   "source": [
    "Transform and normalize images??"
   ]
  },
  {
   "cell_type": "code",
   "execution_count": 47,
   "metadata": {},
   "outputs": [
    {
     "name": "stdout",
     "output_type": "stream",
     "text": [
      "['ID', 'label']\n"
     ]
    },
    {
     "data": {
      "text/plain": [
       "50000"
      ]
     },
     "execution_count": 47,
     "metadata": {},
     "output_type": "execute_result"
    }
   ],
   "source": [
    "# load the training labels into a dictionary,\n",
    "# also load it into a list, haven't decided which one is better yet\n",
    "labels_dic = {}\n",
    "labels = []\n",
    "with open('train_labels.csv') as csvDataFile:\n",
    "    csvReader = csv.reader(csvDataFile)\n",
    "    for row in csvReader:\n",
    "        try: \n",
    "            labels_dic[int(row[0])] = int(row[1])\n",
    "            labels.append(int(row[1]))\n",
    "        except: print(row)\n",
    "            \n",
    "len(labels_dic)"
   ]
  },
  {
   "cell_type": "code",
   "execution_count": 57,
   "metadata": {},
   "outputs": [],
   "source": [
    "# normalize images\n",
    "train_images = np.array(train_images, dtype=\"float\") / 255.0\n",
    "\n",
    "labels = np.array(labels)\n",
    "train_labels = []\n",
    "for i in labels:\n",
    "    label = np.zeros(10)\n",
    "    label[i]=1\n",
    "    train_labels.append(label)\n",
    "\n",
    "train_labels = np.array(train_labels)"
   ]
  },
  {
   "cell_type": "code",
   "execution_count": 33,
   "metadata": {},
   "outputs": [
    {
     "name": "stdout",
     "output_type": "stream",
     "text": [
      "(50000,) (50000, 28, 28)\n"
     ]
    }
   ],
   "source": [
    "print(labels.shape,train_images.shape)"
   ]
  },
  {
   "cell_type": "code",
   "execution_count": 48,
   "metadata": {},
   "outputs": [
    {
     "data": {
      "text/plain": [
       "(50000, 784)"
      ]
     },
     "execution_count": 48,
     "metadata": {},
     "output_type": "execute_result"
    }
   ],
   "source": [
    "# flatten and train\n",
    "train_images_flatten = np.array([i.flatten(\"C\") for i in train_images])\n",
    "train_images_flatten.shape"
   ]
  },
  {
   "cell_type": "markdown",
   "metadata": {},
   "source": [
    "## Creating keras model\n",
    "\n",
    "following this guid\n",
    "https://medium.com/@pallawi.ds/ai-starter-train-and-test-your-first-neural-network-classifier-in-keras-from-scratch-b6a5f3b3ebc4"
   ]
  },
  {
   "cell_type": "code",
   "execution_count": 34,
   "metadata": {},
   "outputs": [
    {
     "name": "stdout",
     "output_type": "stream",
     "text": [
      "printing summary of model\n",
      "Model: \"sequential_1\"\n",
      "_________________________________________________________________\n",
      "Layer (type)                 Output Shape              Param #   \n",
      "=================================================================\n",
      "dense_1 (Dense)              (None, 256)               200960    \n",
      "_________________________________________________________________\n",
      "dense_2 (Dense)              (None, 10)                2570      \n",
      "=================================================================\n",
      "Total params: 203,530\n",
      "Trainable params: 203,530\n",
      "Non-trainable params: 0\n",
      "_________________________________________________________________\n"
     ]
    }
   ],
   "source": [
    "# define the 784-256-10 architecture using keras\n",
    "model = Sequential()\n",
    "# we construct our nn architecture - a feedforward nn\n",
    "\n",
    "# our input layer has 28 x 28 x 1 = 784 raw pixels\n",
    "model.add(Dense(256, input_shape=(784,), activation=\"sigmoid\"))\n",
    "model.add(Dense(10, activation=\"softmax\"))\n",
    "\n",
    "print(\"printing summary of model\")\n",
    "model.summary()"
   ]
  },
  {
   "cell_type": "markdown",
   "metadata": {},
   "source": [
    "### Compile the model\n",
    "\n",
    "You can compile a network (model) as many times as you want. You need to compile the model if you wish to change the loss function, optimizer or matrices.\n",
    "\n",
    "You need a compiled model to train (because training uses the loss function and the optimizer). But it’s not necessary to compile the model when testing the model on a new data."
   ]
  },
  {
   "cell_type": "code",
   "execution_count": 60,
   "metadata": {},
   "outputs": [
    {
     "name": "stdout",
     "output_type": "stream",
     "text": [
      "[INFO] training network...\n"
     ]
    }
   ],
   "source": [
    "# initialize our initial learning rate and # of epochs to train for\n",
    "INIT_LR = 0.01\n",
    "EPOCHS = 75\n",
    "\n",
    "# compile the model using SGD as our optimizer and categorical\n",
    "# cross-entropy loss (if you only have two classes use binary =_crossentropy)\n",
    "\n",
    "print(\"[INFO] training network...\")\n",
    "opt = SGD(lr=INIT_LR) # stochastic gradient descent\n",
    "model.compile(loss=\"categorical_crossentropy\", optimizer=opt, \n",
    "              metrics=[\"accuracy\"])\n",
    "\n"
   ]
  },
  {
   "cell_type": "code",
   "execution_count": 61,
   "metadata": {},
   "outputs": [],
   "source": [
    "# split the train into a train and valid set\n",
    "ratio = 0.8\n",
    "cut = int(ratio*len(train_images_flatten))\n",
    "trainX = train_images_flatten[:cut]\n",
    "trainY = train_labels[:cut]\n",
    "valX = train_images_flatten[cut:]\n",
    "valY = train_labels[cut:]"
   ]
  },
  {
   "cell_type": "code",
   "execution_count": 62,
   "metadata": {
    "scrolled": false
   },
   "outputs": [
    {
     "name": "stdout",
     "output_type": "stream",
     "text": [
      "Train on 40000 samples, validate on 10000 samples\n",
      "Epoch 1/75\n",
      "40000/40000 [==============================] - 3s 78us/step - loss: 0.6358 - accuracy: 0.7696 - val_loss: 0.6464 - val_accuracy: 0.7588\n",
      "Epoch 2/75\n",
      "40000/40000 [==============================] - 3s 73us/step - loss: 0.6294 - accuracy: 0.7738 - val_loss: 0.6382 - val_accuracy: 0.7614\n",
      "Epoch 3/75\n",
      "40000/40000 [==============================] - 3s 72us/step - loss: 0.6241 - accuracy: 0.7751 - val_loss: 0.6358 - val_accuracy: 0.7643\n",
      "Epoch 4/75\n",
      "40000/40000 [==============================] - 3s 73us/step - loss: 0.6183 - accuracy: 0.7772 - val_loss: 0.6300 - val_accuracy: 0.7684\n",
      "Epoch 5/75\n",
      "40000/40000 [==============================] - 3s 74us/step - loss: 0.6132 - accuracy: 0.7793 - val_loss: 0.6248 - val_accuracy: 0.7668\n",
      "Epoch 6/75\n",
      "40000/40000 [==============================] - 3s 86us/step - loss: 0.6088 - accuracy: 0.7816 - val_loss: 0.6288 - val_accuracy: 0.7644\n",
      "Epoch 7/75\n",
      "40000/40000 [==============================] - 3s 85us/step - loss: 0.6041 - accuracy: 0.7831 - val_loss: 0.6177 - val_accuracy: 0.7706\n",
      "Epoch 8/75\n",
      "40000/40000 [==============================] - 3s 81us/step - loss: 0.6006 - accuracy: 0.7839 - val_loss: 0.6150 - val_accuracy: 0.7724\n",
      "Epoch 9/75\n",
      "40000/40000 [==============================] - 4s 94us/step - loss: 0.5966 - accuracy: 0.7859 - val_loss: 0.6126 - val_accuracy: 0.7729\n",
      "Epoch 10/75\n",
      "40000/40000 [==============================] - 4s 97us/step - loss: 0.5933 - accuracy: 0.7868 - val_loss: 0.6099 - val_accuracy: 0.7716\n",
      "Epoch 11/75\n",
      "40000/40000 [==============================] - 4s 100us/step - loss: 0.5903 - accuracy: 0.7886 - val_loss: 0.6100 - val_accuracy: 0.7748\n",
      "Epoch 12/75\n",
      "40000/40000 [==============================] - 4s 100us/step - loss: 0.5870 - accuracy: 0.7897 - val_loss: 0.6047 - val_accuracy: 0.7740\n",
      "Epoch 13/75\n",
      "40000/40000 [==============================] - 4s 99us/step - loss: 0.5842 - accuracy: 0.7904 - val_loss: 0.6036 - val_accuracy: 0.7738\n",
      "Epoch 14/75\n",
      "40000/40000 [==============================] - 4s 100us/step - loss: 0.5809 - accuracy: 0.7916 - val_loss: 0.6024 - val_accuracy: 0.7751\n",
      "Epoch 15/75\n",
      "40000/40000 [==============================] - 4s 110us/step - loss: 0.5787 - accuracy: 0.7916 - val_loss: 0.6008 - val_accuracy: 0.7779\n",
      "Epoch 16/75\n",
      "40000/40000 [==============================] - 4s 100us/step - loss: 0.5761 - accuracy: 0.7929 - val_loss: 0.5986 - val_accuracy: 0.7746\n",
      "Epoch 17/75\n",
      "40000/40000 [==============================] - 4s 99us/step - loss: 0.5732 - accuracy: 0.7950 - val_loss: 0.5945 - val_accuracy: 0.7763\n",
      "Epoch 18/75\n",
      "40000/40000 [==============================] - 4s 100us/step - loss: 0.5710 - accuracy: 0.7952 - val_loss: 0.5913 - val_accuracy: 0.7822\n",
      "Epoch 19/75\n",
      "40000/40000 [==============================] - 4s 104us/step - loss: 0.5686 - accuracy: 0.7953 - val_loss: 0.5965 - val_accuracy: 0.7791\n",
      "Epoch 20/75\n",
      "40000/40000 [==============================] - 4s 104us/step - loss: 0.5670 - accuracy: 0.7947 - val_loss: 0.5866 - val_accuracy: 0.7812\n",
      "Epoch 21/75\n",
      "40000/40000 [==============================] - 4s 104us/step - loss: 0.5641 - accuracy: 0.7982 - val_loss: 0.5869 - val_accuracy: 0.7826\n",
      "Epoch 22/75\n",
      "40000/40000 [==============================] - 4s 106us/step - loss: 0.5627 - accuracy: 0.7978 - val_loss: 0.5855 - val_accuracy: 0.7831\n",
      "Epoch 23/75\n",
      "40000/40000 [==============================] - 4s 97us/step - loss: 0.5608 - accuracy: 0.7987 - val_loss: 0.5842 - val_accuracy: 0.7836\n",
      "Epoch 24/75\n",
      "40000/40000 [==============================] - 4s 95us/step - loss: 0.5591 - accuracy: 0.7981 - val_loss: 0.5802 - val_accuracy: 0.7835\n",
      "Epoch 25/75\n",
      "40000/40000 [==============================] - 4s 96us/step - loss: 0.5566 - accuracy: 0.8001 - val_loss: 0.5800 - val_accuracy: 0.7827\n",
      "Epoch 26/75\n",
      "40000/40000 [==============================] - 4s 96us/step - loss: 0.5549 - accuracy: 0.8013 - val_loss: 0.5807 - val_accuracy: 0.7872\n",
      "Epoch 27/75\n",
      "40000/40000 [==============================] - 4s 96us/step - loss: 0.5534 - accuracy: 0.8015 - val_loss: 0.5759 - val_accuracy: 0.7852\n",
      "Epoch 28/75\n",
      "40000/40000 [==============================] - 4s 97us/step - loss: 0.5518 - accuracy: 0.8019 - val_loss: 0.5801 - val_accuracy: 0.7847\n",
      "Epoch 29/75\n",
      "40000/40000 [==============================] - 4s 97us/step - loss: 0.5505 - accuracy: 0.8012 - val_loss: 0.5729 - val_accuracy: 0.7857\n",
      "Epoch 30/75\n",
      "40000/40000 [==============================] - 4s 98us/step - loss: 0.5483 - accuracy: 0.8023 - val_loss: 0.5730 - val_accuracy: 0.7858\n",
      "Epoch 31/75\n",
      "40000/40000 [==============================] - 4s 95us/step - loss: 0.5461 - accuracy: 0.8024 - val_loss: 0.5763 - val_accuracy: 0.7863\n",
      "Epoch 32/75\n",
      "40000/40000 [==============================] - 4s 96us/step - loss: 0.5455 - accuracy: 0.8043 - val_loss: 0.5730 - val_accuracy: 0.7861\n",
      "Epoch 33/75\n",
      "40000/40000 [==============================] - 4s 96us/step - loss: 0.5441 - accuracy: 0.8039 - val_loss: 0.5713 - val_accuracy: 0.7863\n",
      "Epoch 34/75\n",
      "40000/40000 [==============================] - 4s 100us/step - loss: 0.5427 - accuracy: 0.8044 - val_loss: 0.5684 - val_accuracy: 0.7902\n",
      "Epoch 35/75\n",
      "40000/40000 [==============================] - 4s 97us/step - loss: 0.5415 - accuracy: 0.8067 - val_loss: 0.5746 - val_accuracy: 0.7868\n",
      "Epoch 36/75\n",
      "40000/40000 [==============================] - 4s 103us/step - loss: 0.5403 - accuracy: 0.8067 - val_loss: 0.5689 - val_accuracy: 0.7889\n",
      "Epoch 37/75\n",
      "40000/40000 [==============================] - 4s 102us/step - loss: 0.5383 - accuracy: 0.8064 - val_loss: 0.5748 - val_accuracy: 0.7860\n",
      "Epoch 38/75\n",
      "40000/40000 [==============================] - 4s 96us/step - loss: 0.5374 - accuracy: 0.8064 - val_loss: 0.5706 - val_accuracy: 0.7862\n",
      "Epoch 39/75\n",
      "40000/40000 [==============================] - 4s 97us/step - loss: 0.5357 - accuracy: 0.8059 - val_loss: 0.5643 - val_accuracy: 0.7902\n",
      "Epoch 40/75\n",
      "40000/40000 [==============================] - 4s 97us/step - loss: 0.5346 - accuracy: 0.8074 - val_loss: 0.5639 - val_accuracy: 0.7906\n",
      "Epoch 41/75\n",
      "40000/40000 [==============================] - 4s 101us/step - loss: 0.5333 - accuracy: 0.8080 - val_loss: 0.5641 - val_accuracy: 0.7906\n",
      "Epoch 42/75\n",
      "40000/40000 [==============================] - 4s 100us/step - loss: 0.5315 - accuracy: 0.8093 - val_loss: 0.5642 - val_accuracy: 0.7882\n",
      "Epoch 43/75\n",
      "40000/40000 [==============================] - 4s 101us/step - loss: 0.5313 - accuracy: 0.8098 - val_loss: 0.5649 - val_accuracy: 0.7878\n",
      "Epoch 44/75\n",
      "40000/40000 [==============================] - 4s 102us/step - loss: 0.5294 - accuracy: 0.8105 - val_loss: 0.5644 - val_accuracy: 0.7902\n",
      "Epoch 45/75\n",
      "40000/40000 [==============================] - 4s 101us/step - loss: 0.5287 - accuracy: 0.8100 - val_loss: 0.5737 - val_accuracy: 0.7856\n",
      "Epoch 46/75\n",
      "40000/40000 [==============================] - 4s 101us/step - loss: 0.5273 - accuracy: 0.8094 - val_loss: 0.5612 - val_accuracy: 0.7908\n",
      "Epoch 47/75\n",
      "40000/40000 [==============================] - 4s 110us/step - loss: 0.5268 - accuracy: 0.8105 - val_loss: 0.5574 - val_accuracy: 0.7906\n",
      "Epoch 48/75\n",
      "40000/40000 [==============================] - 4s 99us/step - loss: 0.5247 - accuracy: 0.8127 - val_loss: 0.5621 - val_accuracy: 0.7879\n",
      "Epoch 49/75\n",
      "40000/40000 [==============================] - 4s 97us/step - loss: 0.5243 - accuracy: 0.8124 - val_loss: 0.5641 - val_accuracy: 0.7904\n",
      "Epoch 50/75\n",
      "40000/40000 [==============================] - 4s 99us/step - loss: 0.5233 - accuracy: 0.8125 - val_loss: 0.5587 - val_accuracy: 0.7922\n",
      "Epoch 51/75\n",
      "40000/40000 [==============================] - 4s 99us/step - loss: 0.5223 - accuracy: 0.8122 - val_loss: 0.5606 - val_accuracy: 0.7943\n",
      "Epoch 52/75\n",
      "40000/40000 [==============================] - 4s 97us/step - loss: 0.5212 - accuracy: 0.8128 - val_loss: 0.5550 - val_accuracy: 0.7935\n",
      "Epoch 53/75\n",
      "40000/40000 [==============================] - 4s 106us/step - loss: 0.5201 - accuracy: 0.8123 - val_loss: 0.5541 - val_accuracy: 0.7941\n",
      "Epoch 54/75\n",
      "40000/40000 [==============================] - 4s 103us/step - loss: 0.5188 - accuracy: 0.8149 - val_loss: 0.5526 - val_accuracy: 0.7950\n",
      "Epoch 55/75\n",
      "40000/40000 [==============================] - 4s 101us/step - loss: 0.5181 - accuracy: 0.8144 - val_loss: 0.5530 - val_accuracy: 0.7954\n"
     ]
    },
    {
     "name": "stdout",
     "output_type": "stream",
     "text": [
      "Epoch 56/75\n",
      "40000/40000 [==============================] - 4s 89us/step - loss: 0.5167 - accuracy: 0.8145 - val_loss: 0.5540 - val_accuracy: 0.7955\n",
      "Epoch 57/75\n",
      "40000/40000 [==============================] - 4s 88us/step - loss: 0.5163 - accuracy: 0.8148 - val_loss: 0.5507 - val_accuracy: 0.7962\n",
      "Epoch 58/75\n",
      "40000/40000 [==============================] - 4s 88us/step - loss: 0.5151 - accuracy: 0.8150 - val_loss: 0.5552 - val_accuracy: 0.7937\n",
      "Epoch 59/75\n",
      "40000/40000 [==============================] - 4s 89us/step - loss: 0.5140 - accuracy: 0.8161 - val_loss: 0.5602 - val_accuracy: 0.7923\n",
      "Epoch 60/75\n",
      "40000/40000 [==============================] - 4s 89us/step - loss: 0.5140 - accuracy: 0.8162 - val_loss: 0.5484 - val_accuracy: 0.7978\n",
      "Epoch 61/75\n",
      "40000/40000 [==============================] - 4s 93us/step - loss: 0.5121 - accuracy: 0.8175 - val_loss: 0.5493 - val_accuracy: 0.7951\n",
      "Epoch 62/75\n",
      "40000/40000 [==============================] - 4s 92us/step - loss: 0.5117 - accuracy: 0.8168 - val_loss: 0.5508 - val_accuracy: 0.7965\n",
      "Epoch 63/75\n",
      "40000/40000 [==============================] - 4s 93us/step - loss: 0.5108 - accuracy: 0.8177 - val_loss: 0.5465 - val_accuracy: 0.7990\n",
      "Epoch 64/75\n",
      "40000/40000 [==============================] - 4s 90us/step - loss: 0.5093 - accuracy: 0.8161 - val_loss: 0.5505 - val_accuracy: 0.7966\n",
      "Epoch 65/75\n",
      "40000/40000 [==============================] - 4s 90us/step - loss: 0.5091 - accuracy: 0.8170 - val_loss: 0.5508 - val_accuracy: 0.7953\n",
      "Epoch 66/75\n",
      "40000/40000 [==============================] - 4s 92us/step - loss: 0.5084 - accuracy: 0.8180 - val_loss: 0.5448 - val_accuracy: 0.7988\n",
      "Epoch 67/75\n",
      "40000/40000 [==============================] - 4s 94us/step - loss: 0.5070 - accuracy: 0.8180 - val_loss: 0.5517 - val_accuracy: 0.7953\n",
      "Epoch 68/75\n",
      "40000/40000 [==============================] - 4s 97us/step - loss: 0.5061 - accuracy: 0.8184 - val_loss: 0.5433 - val_accuracy: 0.8002\n",
      "Epoch 69/75\n",
      "40000/40000 [==============================] - 4s 97us/step - loss: 0.5065 - accuracy: 0.8185 - val_loss: 0.5499 - val_accuracy: 0.7968\n",
      "Epoch 70/75\n",
      "40000/40000 [==============================] - 4s 100us/step - loss: 0.5042 - accuracy: 0.8185 - val_loss: 0.5458 - val_accuracy: 0.7994\n",
      "Epoch 71/75\n",
      "40000/40000 [==============================] - 4s 99us/step - loss: 0.5039 - accuracy: 0.8194 - val_loss: 0.5440 - val_accuracy: 0.8001\n",
      "Epoch 72/75\n",
      "40000/40000 [==============================] - 4s 95us/step - loss: 0.5031 - accuracy: 0.8198 - val_loss: 0.5464 - val_accuracy: 0.7966\n",
      "Epoch 73/75\n",
      "40000/40000 [==============================] - 4s 93us/step - loss: 0.5022 - accuracy: 0.8199 - val_loss: 0.5469 - val_accuracy: 0.7980\n",
      "Epoch 74/75\n",
      "40000/40000 [==============================] - 4s 96us/step - loss: 0.5018 - accuracy: 0.8196 - val_loss: 0.5520 - val_accuracy: 0.7953\n",
      "Epoch 75/75\n",
      "40000/40000 [==============================] - 4s 95us/step - loss: 0.5012 - accuracy: 0.8202 - val_loss: 0.5410 - val_accuracy: 0.8002\n"
     ]
    }
   ],
   "source": [
    "# train the neural network\n",
    "H = model.fit(trainX, trainY, \n",
    "              validation_data=(valX, valY), \n",
    "              epochs=EPOCHS, batch_size=32)"
   ]
  },
  {
   "cell_type": "code",
   "execution_count": null,
   "metadata": {},
   "outputs": [],
   "source": []
  },
  {
   "cell_type": "code",
   "execution_count": 75,
   "metadata": {},
   "outputs": [
    {
     "name": "stdout",
     "output_type": "stream",
     "text": [
      "[INFO] evaluating network...\n"
     ]
    },
    {
     "data": {
      "image/png": "[encoded data removed]",
      "text/plain": [
       "<Figure size 432x288 with 1 Axes>"
      ]
     },
     "metadata": {},
     "output_type": "display_data"
    }
   ],
   "source": [
    "#evaluate the network\n",
    "print(\"[INFO] evaluating network...\")\n",
    "predictions = model.predict(trainX, batch_size=32)\n",
    "\n",
    "#Uncomment to see the predicted probabilty for each class in every test image\n",
    "# print (\"predictions---------------->\",predictions)\n",
    "#Uncomment to print the predicted labels in each image\n",
    "# print(\"predictions.argmax(axis=1)\",predictions.argmax(axis=1))\n",
    "\n",
    "### print the performance report of the prediction\n",
    "#print(classification_report(valY.argmax(axis=1),\n",
    " #                           predictions.argmax(axis=1), \n",
    "  #                          target_names=[str(i) for i in range(10)]))\n",
    "\n",
    "# plot the training loss and accuracy for each epoch\n",
    "N = np.arange(0, EPOCHS)\n",
    "plt.style.use(\"ggplot\")\n",
    "plt.figure()\n",
    "plt.plot(N, H.history[\"loss\"], label=\"train_loss\")\n",
    "plt.plot(N, H.history[\"val_loss\"], label=\"val_loss\")\n",
    "plt.plot(N, H.history[\"accuracy\"], label=\"train_acc\")\n",
    "plt.plot(N, H.history[\"val_accuracy\"], label=\"val_acc\")\n",
    "plt.title(\"Training Loss and Accuracy (simple_multiclass_classifcation)\")\n",
    "plt.xlabel(\"Epoch #\")\n",
    "plt.ylabel(\"Loss/Accuracy\")\n",
    "plt.legend()\n",
    "plt.savefig(\"training_performance.png\")"
   ]
  },
  {
   "cell_type": "markdown",
   "metadata": {},
   "source": [
    "## save the model"
   ]
  },
  {
   "cell_type": "code",
   "execution_count": 81,
   "metadata": {},
   "outputs": [
    {
     "name": "stdout",
     "output_type": "stream",
     "text": [
      "[INFO] serializing network and label binarizer...\n"
     ]
    }
   ],
   "source": [
    "# save the model to disk\n",
    "print(\"[INFO] serializing network and label binarizer...\")\n",
    "model.save(\"keras_single_hidden_layer_784_256_10_model.model\")\n"
   ]
  },
  {
   "cell_type": "code",
   "execution_count": 76,
   "metadata": {},
   "outputs": [
    {
     "data": {
      "text/plain": [
       "784"
      ]
     },
     "execution_count": 76,
     "metadata": {},
     "output_type": "execute_result"
    }
   ],
   "source": [
    "28*28"
   ]
  },
  {
   "cell_type": "code",
   "execution_count": null,
   "metadata": {},
   "outputs": [],
   "source": []
  },
  {
   "cell_type": "code",
   "execution_count": null,
   "metadata": {},
   "outputs": [],
   "source": []
  }
 ],
 "metadata": {
  "kernelspec": {
   "display_name": "Python 3",
   "language": "python",
   "name": "python3"
  },
  "language_info": {
   "codemirror_mode": {
    "name": "ipython",
    "version": 3
   },
   "file_extension": ".py",
   "mimetype": "text/x-python",
   "name": "python",
   "nbconvert_exporter": "python",
   "pygments_lexer": "ipython3",
   "version": "3.7.3"
  }
 },
 "nbformat": 4,
 "nbformat_minor": 2
}
